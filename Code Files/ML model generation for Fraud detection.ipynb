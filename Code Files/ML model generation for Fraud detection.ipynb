{
 "cells": [
  {
   "cell_type": "code",
   "execution_count": 1,
   "id": "e1edff8f-c788-4b7c-bb2e-8b23590090d6",
   "metadata": {},
   "outputs": [],
   "source": [
    "import pandas as pd\n",
    "import numpy as np\n",
    "import matplotlib.pyplot as plt\n",
    "import seaborn as sns\n",
    "from sklearn.impute import SimpleImputer\n",
    "from sklearn.model_selection import train_test_split\n",
    "from sklearn.preprocessing import OneHotEncoder, StandardScaler\n",
    "from sklearn.compose import ColumnTransformer\n",
    "from sklearn.metrics import classification_report, accuracy_score, precision_recall_fscore_support, confusion_matrix, precision_score, recall_score, roc_auc_score\n",
    "from sklearn.ensemble import RandomForestClassifier\n",
    "from sklearn.decomposition import PCA\n",
    "from sklearn.model_selection import GridSearchCV, StratifiedKFold"
   ]
  },
  {
   "cell_type": "code",
   "execution_count": 2,
   "id": "fde8f00c-c4f1-4101-b5c7-dedbd029f492",
   "metadata": {},
   "outputs": [
    {
     "name": "stdout",
     "output_type": "stream",
     "text": [
      "Requirement already satisfied: scikit-learn in c:\\users\\tuhina\\anaconda3\\envs\\keras\\lib\\site-packages (1.3.0)\n",
      "Requirement already satisfied: numpy>=1.17.3 in c:\\users\\tuhina\\appdata\\roaming\\python\\python39\\site-packages (from scikit-learn) (1.23.5)\n",
      "Requirement already satisfied: scipy>=1.5.0 in c:\\users\\tuhina\\anaconda3\\envs\\keras\\lib\\site-packages (from scikit-learn) (1.10.1)\n",
      "Requirement already satisfied: joblib>=1.1.1 in c:\\users\\tuhina\\anaconda3\\envs\\keras\\lib\\site-packages (from scikit-learn) (1.2.0)\n",
      "Requirement already satisfied: threadpoolctl>=2.0.0 in c:\\users\\tuhina\\anaconda3\\envs\\keras\\lib\\site-packages (from scikit-learn) (3.1.0)\n",
      "Note: you may need to restart the kernel to use updated packages.\n"
     ]
    }
   ],
   "source": [
    "pip install --upgrade scikit-learn"
   ]
  },
  {
   "cell_type": "code",
   "execution_count": 3,
   "id": "6fb57cd9-963a-4919-b9b5-9f673d922c2d",
   "metadata": {},
   "outputs": [],
   "source": [
    "df = pd.read_csv(\"Insurance Dataset.csv\")"
   ]
  },
  {
   "cell_type": "code",
   "execution_count": 4,
   "id": "89fbef60-a5e8-498f-8beb-7578ab745586",
   "metadata": {},
   "outputs": [
    {
     "data": {
      "text/plain": [
       "Index(['Area_Service', 'Hospital County', 'Hospital Id', 'Age', 'Gender',\n",
       "       'Cultural_group', 'ethnicity', 'Days_spend_hsptl', 'Admission_type',\n",
       "       'Home or self care,', 'ccs_diagnosis_code', 'ccs_procedure_code',\n",
       "       'apr_drg_description', 'Code_illness', 'Mortality risk',\n",
       "       'Surg_Description', 'Weight_baby', 'Abortion', 'Emergency dept_yes/No',\n",
       "       'Tot_charg', 'Tot_cost', 'ratio_of_total_costs_to_total_charges',\n",
       "       'Result', 'Payment_Typology'],\n",
       "      dtype='object')"
      ]
     },
     "execution_count": 4,
     "metadata": {},
     "output_type": "execute_result"
    }
   ],
   "source": [
    "df.columns"
   ]
  },
  {
   "cell_type": "code",
   "execution_count": 5,
   "id": "ee6dc2ef-2114-4322-9b87-70441c8a49ec",
   "metadata": {},
   "outputs": [
    {
     "data": {
      "text/html": [
       "<div>\n",
       "<style scoped>\n",
       "    .dataframe tbody tr th:only-of-type {\n",
       "        vertical-align: middle;\n",
       "    }\n",
       "\n",
       "    .dataframe tbody tr th {\n",
       "        vertical-align: top;\n",
       "    }\n",
       "\n",
       "    .dataframe thead th {\n",
       "        text-align: right;\n",
       "    }\n",
       "</style>\n",
       "<table border=\"1\" class=\"dataframe\">\n",
       "  <thead>\n",
       "    <tr style=\"text-align: right;\">\n",
       "      <th></th>\n",
       "      <th>Area_Service</th>\n",
       "      <th>Hospital County</th>\n",
       "      <th>Hospital Id</th>\n",
       "      <th>Age</th>\n",
       "      <th>Gender</th>\n",
       "      <th>Cultural_group</th>\n",
       "      <th>ethnicity</th>\n",
       "      <th>Days_spend_hsptl</th>\n",
       "      <th>Admission_type</th>\n",
       "      <th>Home or self care,</th>\n",
       "      <th>...</th>\n",
       "      <th>Mortality risk</th>\n",
       "      <th>Surg_Description</th>\n",
       "      <th>Weight_baby</th>\n",
       "      <th>Abortion</th>\n",
       "      <th>Emergency dept_yes/No</th>\n",
       "      <th>Tot_charg</th>\n",
       "      <th>Tot_cost</th>\n",
       "      <th>ratio_of_total_costs_to_total_charges</th>\n",
       "      <th>Result</th>\n",
       "      <th>Payment_Typology</th>\n",
       "    </tr>\n",
       "  </thead>\n",
       "  <tbody>\n",
       "    <tr>\n",
       "      <th>0</th>\n",
       "      <td>Western NY</td>\n",
       "      <td>Allegany</td>\n",
       "      <td>37.0</td>\n",
       "      <td>30 to 49</td>\n",
       "      <td>F</td>\n",
       "      <td>White</td>\n",
       "      <td>Not Span/Hispanic</td>\n",
       "      <td>4</td>\n",
       "      <td>Elective</td>\n",
       "      <td>Home or Self Care</td>\n",
       "      <td>...</td>\n",
       "      <td>1.0</td>\n",
       "      <td>Medical</td>\n",
       "      <td>0</td>\n",
       "      <td>N</td>\n",
       "      <td>Y</td>\n",
       "      <td>5511.95</td>\n",
       "      <td>5582.49</td>\n",
       "      <td>1.012798</td>\n",
       "      <td>1</td>\n",
       "      <td>1</td>\n",
       "    </tr>\n",
       "    <tr>\n",
       "      <th>1</th>\n",
       "      <td>Western NY</td>\n",
       "      <td>Allegany</td>\n",
       "      <td>37.0</td>\n",
       "      <td>70 or Older</td>\n",
       "      <td>F</td>\n",
       "      <td>White</td>\n",
       "      <td>Not Span/Hispanic</td>\n",
       "      <td>4</td>\n",
       "      <td>Urgent</td>\n",
       "      <td>Short-term Hospital</td>\n",
       "      <td>...</td>\n",
       "      <td>2.0</td>\n",
       "      <td>Medical</td>\n",
       "      <td>0</td>\n",
       "      <td>N</td>\n",
       "      <td>Y</td>\n",
       "      <td>4783.20</td>\n",
       "      <td>5162.82</td>\n",
       "      <td>1.079365</td>\n",
       "      <td>1</td>\n",
       "      <td>1</td>\n",
       "    </tr>\n",
       "    <tr>\n",
       "      <th>2</th>\n",
       "      <td>Western NY</td>\n",
       "      <td>Allegany</td>\n",
       "      <td>37.0</td>\n",
       "      <td>30 to 49</td>\n",
       "      <td>F</td>\n",
       "      <td>White</td>\n",
       "      <td>Not Span/Hispanic</td>\n",
       "      <td>3</td>\n",
       "      <td>Urgent</td>\n",
       "      <td>Home or Self Care</td>\n",
       "      <td>...</td>\n",
       "      <td>1.0</td>\n",
       "      <td>Medical</td>\n",
       "      <td>0</td>\n",
       "      <td>N</td>\n",
       "      <td>Y</td>\n",
       "      <td>3829.15</td>\n",
       "      <td>4056.52</td>\n",
       "      <td>1.059379</td>\n",
       "      <td>1</td>\n",
       "      <td>1</td>\n",
       "    </tr>\n",
       "    <tr>\n",
       "      <th>3</th>\n",
       "      <td>Western NY</td>\n",
       "      <td>Allegany</td>\n",
       "      <td>37.0</td>\n",
       "      <td>0 to 17</td>\n",
       "      <td>F</td>\n",
       "      <td>White</td>\n",
       "      <td>Not Span/Hispanic</td>\n",
       "      <td>1</td>\n",
       "      <td>Urgent</td>\n",
       "      <td>Home or Self Care</td>\n",
       "      <td>...</td>\n",
       "      <td>1.0</td>\n",
       "      <td>Medical</td>\n",
       "      <td>0</td>\n",
       "      <td>N</td>\n",
       "      <td>Y</td>\n",
       "      <td>1108.20</td>\n",
       "      <td>1644.75</td>\n",
       "      <td>1.484167</td>\n",
       "      <td>0</td>\n",
       "      <td>1</td>\n",
       "    </tr>\n",
       "    <tr>\n",
       "      <th>4</th>\n",
       "      <td>Western NY</td>\n",
       "      <td>Allegany</td>\n",
       "      <td>37.0</td>\n",
       "      <td>70 or Older</td>\n",
       "      <td>F</td>\n",
       "      <td>White</td>\n",
       "      <td>Not Span/Hispanic</td>\n",
       "      <td>3</td>\n",
       "      <td>Elective</td>\n",
       "      <td>Home or Self Care</td>\n",
       "      <td>...</td>\n",
       "      <td>3.0</td>\n",
       "      <td>Medical</td>\n",
       "      <td>0</td>\n",
       "      <td>N</td>\n",
       "      <td>Y</td>\n",
       "      <td>3418.18</td>\n",
       "      <td>3370.87</td>\n",
       "      <td>0.986161</td>\n",
       "      <td>1</td>\n",
       "      <td>1</td>\n",
       "    </tr>\n",
       "  </tbody>\n",
       "</table>\n",
       "<p>5 rows × 24 columns</p>\n",
       "</div>"
      ],
      "text/plain": [
       "  Area_Service Hospital County  Hospital Id          Age Gender   \n",
       "0   Western NY        Allegany         37.0     30 to 49      F  \\\n",
       "1   Western NY        Allegany         37.0  70 or Older      F   \n",
       "2   Western NY        Allegany         37.0     30 to 49      F   \n",
       "3   Western NY        Allegany         37.0      0 to 17      F   \n",
       "4   Western NY        Allegany         37.0  70 or Older      F   \n",
       "\n",
       "  Cultural_group          ethnicity Days_spend_hsptl Admission_type   \n",
       "0          White  Not Span/Hispanic                4       Elective  \\\n",
       "1          White  Not Span/Hispanic                4         Urgent   \n",
       "2          White  Not Span/Hispanic                3         Urgent   \n",
       "3          White  Not Span/Hispanic                1         Urgent   \n",
       "4          White  Not Span/Hispanic                3       Elective   \n",
       "\n",
       "    Home or self care,  ...  Mortality risk  Surg_Description Weight_baby   \n",
       "0    Home or Self Care  ...             1.0           Medical           0  \\\n",
       "1  Short-term Hospital  ...             2.0           Medical           0   \n",
       "2    Home or Self Care  ...             1.0           Medical           0   \n",
       "3    Home or Self Care  ...             1.0           Medical           0   \n",
       "4    Home or Self Care  ...             3.0           Medical           0   \n",
       "\n",
       "   Abortion  Emergency dept_yes/No Tot_charg  Tot_cost   \n",
       "0         N                      Y   5511.95   5582.49  \\\n",
       "1         N                      Y   4783.20   5162.82   \n",
       "2         N                      Y   3829.15   4056.52   \n",
       "3         N                      Y   1108.20   1644.75   \n",
       "4         N                      Y   3418.18   3370.87   \n",
       "\n",
       "  ratio_of_total_costs_to_total_charges Result  Payment_Typology  \n",
       "0                              1.012798      1                 1  \n",
       "1                              1.079365      1                 1  \n",
       "2                              1.059379      1                 1  \n",
       "3                              1.484167      0                 1  \n",
       "4                              0.986161      1                 1  \n",
       "\n",
       "[5 rows x 24 columns]"
      ]
     },
     "execution_count": 5,
     "metadata": {},
     "output_type": "execute_result"
    }
   ],
   "source": [
    "df.head()"
   ]
  },
  {
   "cell_type": "code",
   "execution_count": 6,
   "id": "b24aa3e9-fb5a-415e-b61a-d7202fe7fae2",
   "metadata": {},
   "outputs": [
    {
     "data": {
      "text/plain": [
       "Area_Service                             2456\n",
       "Hospital County                          2456\n",
       "Hospital Id                              2456\n",
       "Age                                         0\n",
       "Gender                                      0\n",
       "Cultural_group                              0\n",
       "ethnicity                                   0\n",
       "Days_spend_hsptl                            0\n",
       "Admission_type                              0\n",
       "Home or self care,                          0\n",
       "ccs_diagnosis_code                          0\n",
       "ccs_procedure_code                          0\n",
       "apr_drg_description                         0\n",
       "Code_illness                                0\n",
       "Mortality risk                             42\n",
       "Surg_Description                            0\n",
       "Weight_baby                                 0\n",
       "Abortion                                    0\n",
       "Emergency dept_yes/No                       0\n",
       "Tot_charg                                   0\n",
       "Tot_cost                                    0\n",
       "ratio_of_total_costs_to_total_charges       0\n",
       "Result                                      0\n",
       "Payment_Typology                            0\n",
       "dtype: int64"
      ]
     },
     "execution_count": 6,
     "metadata": {},
     "output_type": "execute_result"
    }
   ],
   "source": [
    "df.isnull().sum()"
   ]
  },
  {
   "cell_type": "code",
   "execution_count": 7,
   "id": "d1f2fa10-d49e-4c3f-bbd5-2dd1f5d473c5",
   "metadata": {},
   "outputs": [
    {
     "data": {
      "text/plain": [
       "(1048575, 24)"
      ]
     },
     "execution_count": 7,
     "metadata": {},
     "output_type": "execute_result"
    }
   ],
   "source": [
    "df.shape"
   ]
  },
  {
   "cell_type": "code",
   "execution_count": 8,
   "id": "6e98998a-d4ba-46de-b32e-f8ffeeca0c1c",
   "metadata": {},
   "outputs": [
    {
     "data": {
      "text/plain": [
       "Area_Service                                  7\n",
       "Hospital County                              51\n",
       "Hospital Id                                 143\n",
       "Age                                           5\n",
       "Gender                                        3\n",
       "Cultural_group                                4\n",
       "ethnicity                                     3\n",
       "Days_spend_hsptl                            120\n",
       "Admission_type                                6\n",
       "Home or self care,                           19\n",
       "ccs_diagnosis_code                          262\n",
       "ccs_procedure_code                          230\n",
       "apr_drg_description                         316\n",
       "Code_illness                                  5\n",
       "Mortality risk                                4\n",
       "Surg_Description                              3\n",
       "Weight_baby                                  70\n",
       "Abortion                                      2\n",
       "Emergency dept_yes/No                         2\n",
       "Tot_charg                                869659\n",
       "Tot_cost                                 766537\n",
       "ratio_of_total_costs_to_total_charges    987065\n",
       "Result                                        2\n",
       "Payment_Typology                              5\n",
       "dtype: int64"
      ]
     },
     "execution_count": 8,
     "metadata": {},
     "output_type": "execute_result"
    }
   ],
   "source": [
    "df.nunique()"
   ]
  },
  {
   "cell_type": "code",
   "execution_count": 9,
   "id": "ef015ca3-afbe-417d-9c4a-a247233aabf6",
   "metadata": {},
   "outputs": [
    {
     "data": {
      "text/plain": [
       "Area_Service                              object\n",
       "Hospital County                           object\n",
       "Hospital Id                              float64\n",
       "Age                                       object\n",
       "Gender                                    object\n",
       "Cultural_group                            object\n",
       "ethnicity                                 object\n",
       "Days_spend_hsptl                          object\n",
       "Admission_type                            object\n",
       "Home or self care,                        object\n",
       "ccs_diagnosis_code                         int64\n",
       "ccs_procedure_code                         int64\n",
       "apr_drg_description                       object\n",
       "Code_illness                               int64\n",
       "Mortality risk                           float64\n",
       "Surg_Description                          object\n",
       "Weight_baby                                int64\n",
       "Abortion                                  object\n",
       "Emergency dept_yes/No                     object\n",
       "Tot_charg                                float64\n",
       "Tot_cost                                 float64\n",
       "ratio_of_total_costs_to_total_charges    float64\n",
       "Result                                     int64\n",
       "Payment_Typology                           int64\n",
       "dtype: object"
      ]
     },
     "execution_count": 9,
     "metadata": {},
     "output_type": "execute_result"
    }
   ],
   "source": [
    "df.dtypes"
   ]
  },
  {
   "cell_type": "code",
   "execution_count": 10,
   "id": "7b17daec-8f8a-4cf9-9a13-c244e130333e",
   "metadata": {},
   "outputs": [],
   "source": [
    "columns_to_drop = ['Payment_Typology']\n",
    "df.drop(columns_to_drop, axis=1, inplace=True)"
   ]
  },
  {
   "cell_type": "code",
   "execution_count": 11,
   "id": "a4645220-9318-420c-b91a-df12b26e3b68",
   "metadata": {},
   "outputs": [],
   "source": [
    "df['baby']= df['Weight_baby'].apply(lambda x: 1 if x > 0 else 0)"
   ]
  },
  {
   "cell_type": "code",
   "execution_count": 12,
   "id": "3906c29c-fe31-4489-b97a-7efcecb1ec31",
   "metadata": {},
   "outputs": [],
   "source": [
    "columns_to_drop = ['Weight_baby']\n",
    "df.drop(columns_to_drop, axis=1, inplace=True)"
   ]
  },
  {
   "cell_type": "code",
   "execution_count": 13,
   "id": "f3bf5f16-ab32-4d80-aa38-18448e076905",
   "metadata": {},
   "outputs": [
    {
     "data": {
      "text/plain": [
       "array([3.700e+01,       nan, 3.900e+01, 6.600e+01, 9.800e+01, 1.020e+02,\n",
       "       1.030e+02, 1.110e+02, 1.140e+02, 2.070e+02, 2.080e+02, 2.100e+02,\n",
       "       2.110e+02, 2.130e+02, 2.150e+02, 2.160e+02, 2.180e+02, 2.670e+02,\n",
       "       2.800e+02, 2.920e+02, 3.390e+02, 3.400e+02, 5.650e+02, 5.740e+02,\n",
       "       5.810e+02, 5.830e+02, 5.850e+02, 7.180e+02, 1.153e+03, 3.067e+03,\n",
       "       1.160e+02, 1.180e+02, 3.930e+02, 4.090e+02, 4.110e+02, 4.120e+02,\n",
       "       4.130e+02, 4.140e+02, 4.610e+02, 4.710e+02, 6.710e+02, 6.760e+02,\n",
       "       6.780e+02, 8.580e+02, 8.660e+02, 8.700e+02, 8.730e+02, 1.028e+03,\n",
       "       1.158e+03, 5.785e+03, 1.200e+01, 4.200e+01, 4.300e+01, 5.800e+01,\n",
       "       8.500e+01, 1.280e+02, 1.580e+02, 3.620e+02, 3.670e+02, 3.770e+02,\n",
       "       3.790e+02, 3.830e+02, 3.970e+02, 4.010e+02, 5.890e+02, 5.970e+02,\n",
       "       5.980e+02, 5.990e+02, 6.280e+02, 6.300e+02, 6.350e+02, 6.360e+02,\n",
       "       7.270e+02, 7.980e+02, 8.040e+02, 8.120e+02, 8.150e+02, 8.170e+02,\n",
       "       9.770e+02, 9.059e+03, 1.000e+00, 2.000e+00, 4.000e+00, 5.000e+00,\n",
       "       1.350e+02, 1.460e+02, 1.650e+02, 1.700e+02, 1.740e+02, 3.030e+02,\n",
       "       3.090e+02, 3.240e+02, 3.250e+02, 3.300e+02, 4.820e+02, 4.840e+02,\n",
       "       7.390e+02, 7.460e+02, 7.550e+02, 7.560e+02, 8.180e+02, 8.290e+02,\n",
       "       8.310e+02, 8.480e+02, 8.510e+02, 1.005e+03, 9.250e+03, 1.800e+02,\n",
       "       1.810e+02, 1.920e+02, 6.940e+02, 6.990e+02, 7.040e+02, 7.080e+02,\n",
       "       7.520e+02, 7.750e+02, 7.760e+02, 7.790e+02, 7.930e+02, 9.680e+02,\n",
       "       9.710e+02, 9.890e+02, 9.900e+02, 1.002e+03, 1.039e+03, 1.045e+03,\n",
       "       1.046e+03, 1.047e+03, 1.061e+03, 1.072e+03, 1.097e+03, 1.098e+03,\n",
       "       1.099e+03, 1.117e+03, 1.122e+03, 1.124e+03, 1.129e+03, 1.133e+03,\n",
       "       1.138e+03, 1.139e+03, 1.164e+03, 1.165e+03, 1.168e+03, 1.169e+03])"
      ]
     },
     "execution_count": 13,
     "metadata": {},
     "output_type": "execute_result"
    }
   ],
   "source": [
    "df['Hospital Id'].unique()"
   ]
  },
  {
   "cell_type": "code",
   "execution_count": 14,
   "id": "dd0b3e31-a51e-484e-9d16-12c85d8a87b7",
   "metadata": {},
   "outputs": [],
   "source": [
    "df['Hospital Id']=df['Hospital Id'].astype(object)"
   ]
  },
  {
   "cell_type": "code",
   "execution_count": 15,
   "id": "5d70baa8-9216-49b2-8e8a-685d3b69a7f1",
   "metadata": {},
   "outputs": [],
   "source": [
    "df.loc[df['Days_spend_hsptl'] == '120 +', 'Days_spend_hsptl'] = 120"
   ]
  },
  {
   "cell_type": "code",
   "execution_count": 16,
   "id": "1f9743a2-9237-43d2-9113-10a936ad6709",
   "metadata": {},
   "outputs": [],
   "source": [
    "df['Days_spend_hsptl']=df['Days_spend_hsptl'].astype(np.float64)"
   ]
  },
  {
   "cell_type": "code",
   "execution_count": 17,
   "id": "da961032-2ec9-40bf-be16-455559f56c05",
   "metadata": {},
   "outputs": [],
   "source": [
    "# # distribution of categorical variables\n",
    "# mask_categorical = df.dtypes != float\n",
    "# category_cols = df.columns[mask_categorical]\n",
    "# category_cols=category_cols.tolist()\n",
    "# for col in category_cols:\n",
    "#     fig, ax = plt.subplots(figsize = (10,8))\n",
    "#     plt1 = sns.countplot(data=df, x=col, order=df[col].value_counts().index)\n",
    "#     plt1.set(xlabel = col, ylabel= 'Count')\n",
    "#     plt.xticks(rotation=90)\n",
    "#     plt.show()\n",
    "#     plt.tight_layout()"
   ]
  },
  {
   "cell_type": "code",
   "execution_count": 18,
   "id": "15a7b648-1ccd-4803-ac14-e5ccfc03dcb3",
   "metadata": {},
   "outputs": [],
   "source": [
    "df['Code_illness']=df['Code_illness'].astype(np.int64)"
   ]
  },
  {
   "cell_type": "code",
   "execution_count": null,
   "id": "d4ab489b-fa1d-4613-923d-481acc3305a1",
   "metadata": {},
   "outputs": [],
   "source": []
  },
  {
   "cell_type": "code",
   "execution_count": 19,
   "id": "8a1458dd-3a6b-4b8a-8195-21aa9bb91f4f",
   "metadata": {},
   "outputs": [
    {
     "data": {
      "text/plain": [
       "Area_Service                              object\n",
       "Hospital County                           object\n",
       "Hospital Id                               object\n",
       "Age                                       object\n",
       "Gender                                    object\n",
       "Cultural_group                            object\n",
       "ethnicity                                 object\n",
       "Days_spend_hsptl                         float64\n",
       "Admission_type                            object\n",
       "Home or self care,                        object\n",
       "ccs_diagnosis_code                         int64\n",
       "ccs_procedure_code                         int64\n",
       "apr_drg_description                       object\n",
       "Code_illness                               int64\n",
       "Mortality risk                           float64\n",
       "Surg_Description                          object\n",
       "Abortion                                  object\n",
       "Emergency dept_yes/No                     object\n",
       "Tot_charg                                float64\n",
       "Tot_cost                                 float64\n",
       "ratio_of_total_costs_to_total_charges    float64\n",
       "Result                                     int64\n",
       "baby                                       int64\n",
       "dtype: object"
      ]
     },
     "execution_count": 19,
     "metadata": {},
     "output_type": "execute_result"
    }
   ],
   "source": [
    "df.dtypes"
   ]
  },
  {
   "cell_type": "code",
   "execution_count": 20,
   "id": "6e405356-fab9-4000-98ff-151e4ae33478",
   "metadata": {},
   "outputs": [],
   "source": [
    "X = df.copy()\n",
    "y = X.pop('Result')"
   ]
  },
  {
   "cell_type": "code",
   "execution_count": 21,
   "id": "ead60a22-73b6-4db4-9e31-8064bdabbfb5",
   "metadata": {},
   "outputs": [],
   "source": [
    "X_train, X_test, y_train, y_test = train_test_split(X, y, test_size=0.20, random_state=0, stratify=y)"
   ]
  },
  {
   "cell_type": "code",
   "execution_count": 22,
   "id": "7217106c-36c0-4a40-be68-a625957dae6a",
   "metadata": {},
   "outputs": [],
   "source": [
    "mask = X_train.dtypes == float\n",
    "float_cols = X_train.columns[mask]"
   ]
  },
  {
   "cell_type": "code",
   "execution_count": 23,
   "id": "d71f28ec-3f78-404b-8562-5548eba74a7f",
   "metadata": {},
   "outputs": [],
   "source": [
    "imputer_continuous = SimpleImputer(strategy='median')\n",
    "imputer_continuous.fit(X_train[float_cols])\n",
    "X_train[float_cols] = imputer_continuous.transform(X_train[float_cols])\n",
    "X_test[float_cols] = imputer_continuous.transform(X_test[float_cols])"
   ]
  },
  {
   "cell_type": "code",
   "execution_count": 24,
   "id": "20834c6f-0596-45fd-9763-c534eff4fd69",
   "metadata": {},
   "outputs": [],
   "source": [
    "mask = X_train.dtypes == object\n",
    "object_cols = X_train.columns[mask]"
   ]
  },
  {
   "cell_type": "code",
   "execution_count": 25,
   "id": "6d501a85-01ab-416c-81f5-f5848bbe3442",
   "metadata": {},
   "outputs": [],
   "source": [
    "imputer_categorical = SimpleImputer(strategy='most_frequent')\n",
    "imputer_categorical.fit(X_train[object_cols])\n",
    "X_train[object_cols] = imputer_categorical.transform(X_train[object_cols])\n",
    "X_test[object_cols] = imputer_categorical.transform(X_test[object_cols])"
   ]
  },
  {
   "cell_type": "code",
   "execution_count": 26,
   "id": "ef7d08a5-b683-4dfc-a2b5-36b16a45e071",
   "metadata": {},
   "outputs": [],
   "source": [
    "X_train['Hospital Id']=X_train['Hospital Id'].astype(np.int64)\n",
    "X_test['Hospital Id']=X_test['Hospital Id'].astype(np.int64)"
   ]
  },
  {
   "cell_type": "code",
   "execution_count": 27,
   "id": "51935463-3c2c-48c4-9dbc-835474e4ea44",
   "metadata": {},
   "outputs": [],
   "source": [
    "X_train['Mortality risk']=X_train['Mortality risk'].astype(np.int64)\n",
    "X_test['Mortality risk']=X_test['Mortality risk'].astype(np.int64)"
   ]
  },
  {
   "cell_type": "code",
   "execution_count": 28,
   "id": "e50c0f22-556b-4e4a-ae6f-64ba3ac0a6b2",
   "metadata": {},
   "outputs": [
    {
     "data": {
      "text/plain": [
       "Area_Service                              object\n",
       "Hospital County                           object\n",
       "Hospital Id                                int64\n",
       "Age                                       object\n",
       "Gender                                    object\n",
       "Cultural_group                            object\n",
       "ethnicity                                 object\n",
       "Days_spend_hsptl                         float64\n",
       "Admission_type                            object\n",
       "Home or self care,                        object\n",
       "ccs_diagnosis_code                         int64\n",
       "ccs_procedure_code                         int64\n",
       "apr_drg_description                       object\n",
       "Code_illness                               int64\n",
       "Mortality risk                             int64\n",
       "Surg_Description                          object\n",
       "Abortion                                  object\n",
       "Emergency dept_yes/No                     object\n",
       "Tot_charg                                float64\n",
       "Tot_cost                                 float64\n",
       "ratio_of_total_costs_to_total_charges    float64\n",
       "baby                                       int64\n",
       "dtype: object"
      ]
     },
     "execution_count": 28,
     "metadata": {},
     "output_type": "execute_result"
    }
   ],
   "source": [
    "X_train.dtypes"
   ]
  },
  {
   "cell_type": "code",
   "execution_count": 29,
   "id": "6c4008e1-7bbb-486f-bd09-4ba7b81b7c3a",
   "metadata": {},
   "outputs": [],
   "source": [
    "ss=StandardScaler()\n",
    "mask_numeric = X_train.dtypes == float\n",
    "numeric_cols = X_train.columns[mask_numeric]\n",
    "numeric_cols=numeric_cols.tolist()\n",
    "X_train[numeric_cols]=ss.fit_transform(X_train[numeric_cols])\n",
    "X_test[numeric_cols]=ss.transform(X_test[numeric_cols])"
   ]
  },
  {
   "cell_type": "code",
   "execution_count": 30,
   "id": "f7dccd40-5178-4b39-aebd-4c20aa2f0f68",
   "metadata": {},
   "outputs": [],
   "source": [
    "mask = X_train.dtypes == object\n",
    "object_cols = X_train.columns[mask]"
   ]
  },
  {
   "cell_type": "code",
   "execution_count": 31,
   "id": "7616b572-8cec-4b87-a7c0-a894eba839ca",
   "metadata": {},
   "outputs": [],
   "source": [
    "one_hot = ColumnTransformer(transformers=[(\"one_hot\", OneHotEncoder(), object_cols) ],remainder=\"passthrough\")\n",
    "X_train=one_hot.fit_transform(X_train)\n",
    "X_test=one_hot.transform(X_test)"
   ]
  },
  {
   "cell_type": "code",
   "execution_count": 32,
   "id": "1b3e0e5c-035f-4139-be1a-a66ed1ae04d7",
   "metadata": {},
   "outputs": [],
   "source": [
    "names=one_hot.get_feature_names_out()\n",
    "colunm_names=[name[name.find(\"_\")+1:] for name in  [name[name.find(\"__\")+2:] for name in names]]"
   ]
  },
  {
   "cell_type": "code",
   "execution_count": 33,
   "id": "5647a7d5-3e9b-4247-ac7e-aed586f70ed7",
   "metadata": {},
   "outputs": [],
   "source": [
    "X_train=X_train.toarray()\n",
    "X_train=pd.DataFrame(data=X_train,columns=colunm_names)"
   ]
  },
  {
   "cell_type": "code",
   "execution_count": 34,
   "id": "d0cf7673-cad6-44c3-a38e-b47d65d99cac",
   "metadata": {},
   "outputs": [
    {
     "data": {
      "text/html": [
       "<div>\n",
       "<style scoped>\n",
       "    .dataframe tbody tr th:only-of-type {\n",
       "        vertical-align: middle;\n",
       "    }\n",
       "\n",
       "    .dataframe tbody tr th {\n",
       "        vertical-align: top;\n",
       "    }\n",
       "\n",
       "    .dataframe thead th {\n",
       "        text-align: right;\n",
       "    }\n",
       "</style>\n",
       "<table border=\"1\" class=\"dataframe\">\n",
       "  <thead>\n",
       "    <tr style=\"text-align: right;\">\n",
       "      <th></th>\n",
       "      <th>Service_Capital/Adirond</th>\n",
       "      <th>Service_Central NY</th>\n",
       "      <th>Service_Finger Lakes</th>\n",
       "      <th>Service_Hudson Valley</th>\n",
       "      <th>Service_New York City</th>\n",
       "      <th>Service_Southern Tier</th>\n",
       "      <th>Service_Western NY</th>\n",
       "      <th>Albany</th>\n",
       "      <th>Allegany</th>\n",
       "      <th>Bronx</th>\n",
       "      <th>...</th>\n",
       "      <th>Hospital Id</th>\n",
       "      <th>spend_hsptl</th>\n",
       "      <th>diagnosis_code</th>\n",
       "      <th>procedure_code</th>\n",
       "      <th>illness</th>\n",
       "      <th>Mortality risk</th>\n",
       "      <th>charg</th>\n",
       "      <th>cost</th>\n",
       "      <th>of_total_costs_to_total_charges</th>\n",
       "      <th>baby</th>\n",
       "    </tr>\n",
       "  </thead>\n",
       "  <tbody>\n",
       "    <tr>\n",
       "      <th>0</th>\n",
       "      <td>0.0</td>\n",
       "      <td>0.0</td>\n",
       "      <td>0.0</td>\n",
       "      <td>0.0</td>\n",
       "      <td>1.0</td>\n",
       "      <td>0.0</td>\n",
       "      <td>0.0</td>\n",
       "      <td>0.0</td>\n",
       "      <td>0.0</td>\n",
       "      <td>1.0</td>\n",
       "      <td>...</td>\n",
       "      <td>1169.0</td>\n",
       "      <td>1.083794</td>\n",
       "      <td>2.0</td>\n",
       "      <td>162.0</td>\n",
       "      <td>4.0</td>\n",
       "      <td>4.0</td>\n",
       "      <td>2.658339</td>\n",
       "      <td>1.230948</td>\n",
       "      <td>-0.294421</td>\n",
       "      <td>0.0</td>\n",
       "    </tr>\n",
       "    <tr>\n",
       "      <th>1</th>\n",
       "      <td>1.0</td>\n",
       "      <td>0.0</td>\n",
       "      <td>0.0</td>\n",
       "      <td>0.0</td>\n",
       "      <td>0.0</td>\n",
       "      <td>0.0</td>\n",
       "      <td>0.0</td>\n",
       "      <td>0.0</td>\n",
       "      <td>0.0</td>\n",
       "      <td>0.0</td>\n",
       "      <td>...</td>\n",
       "      <td>829.0</td>\n",
       "      <td>-0.304453</td>\n",
       "      <td>659.0</td>\n",
       "      <td>0.0</td>\n",
       "      <td>2.0</td>\n",
       "      <td>1.0</td>\n",
       "      <td>-0.369364</td>\n",
       "      <td>-0.363047</td>\n",
       "      <td>-0.145790</td>\n",
       "      <td>0.0</td>\n",
       "    </tr>\n",
       "    <tr>\n",
       "      <th>2</th>\n",
       "      <td>0.0</td>\n",
       "      <td>1.0</td>\n",
       "      <td>0.0</td>\n",
       "      <td>0.0</td>\n",
       "      <td>0.0</td>\n",
       "      <td>0.0</td>\n",
       "      <td>0.0</td>\n",
       "      <td>0.0</td>\n",
       "      <td>0.0</td>\n",
       "      <td>0.0</td>\n",
       "      <td>...</td>\n",
       "      <td>636.0</td>\n",
       "      <td>-0.304453</td>\n",
       "      <td>203.0</td>\n",
       "      <td>152.0</td>\n",
       "      <td>2.0</td>\n",
       "      <td>1.0</td>\n",
       "      <td>-0.036358</td>\n",
       "      <td>0.085897</td>\n",
       "      <td>0.045397</td>\n",
       "      <td>0.0</td>\n",
       "    </tr>\n",
       "    <tr>\n",
       "      <th>3</th>\n",
       "      <td>0.0</td>\n",
       "      <td>1.0</td>\n",
       "      <td>0.0</td>\n",
       "      <td>0.0</td>\n",
       "      <td>0.0</td>\n",
       "      <td>0.0</td>\n",
       "      <td>0.0</td>\n",
       "      <td>0.0</td>\n",
       "      <td>0.0</td>\n",
       "      <td>0.0</td>\n",
       "      <td>...</td>\n",
       "      <td>630.0</td>\n",
       "      <td>-0.052045</td>\n",
       "      <td>238.0</td>\n",
       "      <td>78.0</td>\n",
       "      <td>3.0</td>\n",
       "      <td>2.0</td>\n",
       "      <td>-0.002108</td>\n",
       "      <td>-0.031249</td>\n",
       "      <td>-0.117888</td>\n",
       "      <td>0.0</td>\n",
       "    </tr>\n",
       "    <tr>\n",
       "      <th>4</th>\n",
       "      <td>0.0</td>\n",
       "      <td>0.0</td>\n",
       "      <td>0.0</td>\n",
       "      <td>0.0</td>\n",
       "      <td>0.0</td>\n",
       "      <td>0.0</td>\n",
       "      <td>1.0</td>\n",
       "      <td>0.0</td>\n",
       "      <td>0.0</td>\n",
       "      <td>0.0</td>\n",
       "      <td>...</td>\n",
       "      <td>216.0</td>\n",
       "      <td>0.200364</td>\n",
       "      <td>26.0</td>\n",
       "      <td>132.0</td>\n",
       "      <td>3.0</td>\n",
       "      <td>1.0</td>\n",
       "      <td>0.401568</td>\n",
       "      <td>0.541162</td>\n",
       "      <td>0.004490</td>\n",
       "      <td>0.0</td>\n",
       "    </tr>\n",
       "  </tbody>\n",
       "</table>\n",
       "<p>5 rows × 431 columns</p>\n",
       "</div>"
      ],
      "text/plain": [
       "   Service_Capital/Adirond  Service_Central NY  Service_Finger Lakes   \n",
       "0                      0.0                 0.0                   0.0  \\\n",
       "1                      1.0                 0.0                   0.0   \n",
       "2                      0.0                 1.0                   0.0   \n",
       "3                      0.0                 1.0                   0.0   \n",
       "4                      0.0                 0.0                   0.0   \n",
       "\n",
       "   Service_Hudson Valley  Service_New York City  Service_Southern Tier   \n",
       "0                    0.0                    1.0                    0.0  \\\n",
       "1                    0.0                    0.0                    0.0   \n",
       "2                    0.0                    0.0                    0.0   \n",
       "3                    0.0                    0.0                    0.0   \n",
       "4                    0.0                    0.0                    0.0   \n",
       "\n",
       "   Service_Western NY  Albany  Allegany  Bronx  ...  Hospital Id  spend_hsptl   \n",
       "0                 0.0     0.0       0.0    1.0  ...       1169.0     1.083794  \\\n",
       "1                 0.0     0.0       0.0    0.0  ...        829.0    -0.304453   \n",
       "2                 0.0     0.0       0.0    0.0  ...        636.0    -0.304453   \n",
       "3                 0.0     0.0       0.0    0.0  ...        630.0    -0.052045   \n",
       "4                 1.0     0.0       0.0    0.0  ...        216.0     0.200364   \n",
       "\n",
       "   diagnosis_code  procedure_code  illness  Mortality risk     charg   \n",
       "0             2.0           162.0      4.0             4.0  2.658339  \\\n",
       "1           659.0             0.0      2.0             1.0 -0.369364   \n",
       "2           203.0           152.0      2.0             1.0 -0.036358   \n",
       "3           238.0            78.0      3.0             2.0 -0.002108   \n",
       "4            26.0           132.0      3.0             1.0  0.401568   \n",
       "\n",
       "       cost  of_total_costs_to_total_charges  baby  \n",
       "0  1.230948                        -0.294421   0.0  \n",
       "1 -0.363047                        -0.145790   0.0  \n",
       "2  0.085897                         0.045397   0.0  \n",
       "3 -0.031249                        -0.117888   0.0  \n",
       "4  0.541162                         0.004490   0.0  \n",
       "\n",
       "[5 rows x 431 columns]"
      ]
     },
     "execution_count": 34,
     "metadata": {},
     "output_type": "execute_result"
    }
   ],
   "source": [
    "X_train.head()"
   ]
  },
  {
   "cell_type": "code",
   "execution_count": 35,
   "id": "4cdd3496-2815-4eb3-858e-c4b139ce0c8e",
   "metadata": {},
   "outputs": [],
   "source": [
    "X_test=X_test.toarray()\n",
    "X_test=pd.DataFrame(data=X_test,columns=colunm_names)"
   ]
  },
  {
   "cell_type": "code",
   "execution_count": 36,
   "id": "3522893e-f240-4ffe-a9b5-42bf5ab40bfb",
   "metadata": {},
   "outputs": [
    {
     "data": {
      "text/html": [
       "<div>\n",
       "<style scoped>\n",
       "    .dataframe tbody tr th:only-of-type {\n",
       "        vertical-align: middle;\n",
       "    }\n",
       "\n",
       "    .dataframe tbody tr th {\n",
       "        vertical-align: top;\n",
       "    }\n",
       "\n",
       "    .dataframe thead th {\n",
       "        text-align: right;\n",
       "    }\n",
       "</style>\n",
       "<table border=\"1\" class=\"dataframe\">\n",
       "  <thead>\n",
       "    <tr style=\"text-align: right;\">\n",
       "      <th></th>\n",
       "      <th>Service_Capital/Adirond</th>\n",
       "      <th>Service_Central NY</th>\n",
       "      <th>Service_Finger Lakes</th>\n",
       "      <th>Service_Hudson Valley</th>\n",
       "      <th>Service_New York City</th>\n",
       "      <th>Service_Southern Tier</th>\n",
       "      <th>Service_Western NY</th>\n",
       "      <th>Albany</th>\n",
       "      <th>Allegany</th>\n",
       "      <th>Bronx</th>\n",
       "      <th>...</th>\n",
       "      <th>Hospital Id</th>\n",
       "      <th>spend_hsptl</th>\n",
       "      <th>diagnosis_code</th>\n",
       "      <th>procedure_code</th>\n",
       "      <th>illness</th>\n",
       "      <th>Mortality risk</th>\n",
       "      <th>charg</th>\n",
       "      <th>cost</th>\n",
       "      <th>of_total_costs_to_total_charges</th>\n",
       "      <th>baby</th>\n",
       "    </tr>\n",
       "  </thead>\n",
       "  <tbody>\n",
       "    <tr>\n",
       "      <th>0</th>\n",
       "      <td>0.0</td>\n",
       "      <td>0.0</td>\n",
       "      <td>0.0</td>\n",
       "      <td>1.0</td>\n",
       "      <td>0.0</td>\n",
       "      <td>0.0</td>\n",
       "      <td>0.0</td>\n",
       "      <td>0.0</td>\n",
       "      <td>0.0</td>\n",
       "      <td>0.0</td>\n",
       "      <td>...</td>\n",
       "      <td>1072.0</td>\n",
       "      <td>-0.304453</td>\n",
       "      <td>218.0</td>\n",
       "      <td>0.0</td>\n",
       "      <td>1.0</td>\n",
       "      <td>1.0</td>\n",
       "      <td>-0.430422</td>\n",
       "      <td>-0.343200</td>\n",
       "      <td>0.390320</td>\n",
       "      <td>1.0</td>\n",
       "    </tr>\n",
       "    <tr>\n",
       "      <th>1</th>\n",
       "      <td>0.0</td>\n",
       "      <td>0.0</td>\n",
       "      <td>0.0</td>\n",
       "      <td>1.0</td>\n",
       "      <td>0.0</td>\n",
       "      <td>0.0</td>\n",
       "      <td>0.0</td>\n",
       "      <td>0.0</td>\n",
       "      <td>0.0</td>\n",
       "      <td>0.0</td>\n",
       "      <td>...</td>\n",
       "      <td>1072.0</td>\n",
       "      <td>-0.304453</td>\n",
       "      <td>183.0</td>\n",
       "      <td>140.0</td>\n",
       "      <td>2.0</td>\n",
       "      <td>1.0</td>\n",
       "      <td>-0.286036</td>\n",
       "      <td>-0.240337</td>\n",
       "      <td>-0.016452</td>\n",
       "      <td>0.0</td>\n",
       "    </tr>\n",
       "    <tr>\n",
       "      <th>2</th>\n",
       "      <td>0.0</td>\n",
       "      <td>0.0</td>\n",
       "      <td>1.0</td>\n",
       "      <td>0.0</td>\n",
       "      <td>0.0</td>\n",
       "      <td>0.0</td>\n",
       "      <td>0.0</td>\n",
       "      <td>0.0</td>\n",
       "      <td>0.0</td>\n",
       "      <td>0.0</td>\n",
       "      <td>...</td>\n",
       "      <td>409.0</td>\n",
       "      <td>0.074160</td>\n",
       "      <td>2.0</td>\n",
       "      <td>63.0</td>\n",
       "      <td>4.0</td>\n",
       "      <td>4.0</td>\n",
       "      <td>-0.114402</td>\n",
       "      <td>-0.056022</td>\n",
       "      <td>-0.018525</td>\n",
       "      <td>0.0</td>\n",
       "    </tr>\n",
       "    <tr>\n",
       "      <th>3</th>\n",
       "      <td>0.0</td>\n",
       "      <td>1.0</td>\n",
       "      <td>0.0</td>\n",
       "      <td>0.0</td>\n",
       "      <td>0.0</td>\n",
       "      <td>0.0</td>\n",
       "      <td>0.0</td>\n",
       "      <td>0.0</td>\n",
       "      <td>0.0</td>\n",
       "      <td>0.0</td>\n",
       "      <td>...</td>\n",
       "      <td>598.0</td>\n",
       "      <td>-0.052045</td>\n",
       "      <td>250.0</td>\n",
       "      <td>70.0</td>\n",
       "      <td>3.0</td>\n",
       "      <td>3.0</td>\n",
       "      <td>-0.264284</td>\n",
       "      <td>-0.157092</td>\n",
       "      <td>0.114231</td>\n",
       "      <td>0.0</td>\n",
       "    </tr>\n",
       "    <tr>\n",
       "      <th>4</th>\n",
       "      <td>0.0</td>\n",
       "      <td>0.0</td>\n",
       "      <td>0.0</td>\n",
       "      <td>1.0</td>\n",
       "      <td>0.0</td>\n",
       "      <td>0.0</td>\n",
       "      <td>0.0</td>\n",
       "      <td>0.0</td>\n",
       "      <td>0.0</td>\n",
       "      <td>0.0</td>\n",
       "      <td>...</td>\n",
       "      <td>699.0</td>\n",
       "      <td>-0.052045</td>\n",
       "      <td>159.0</td>\n",
       "      <td>0.0</td>\n",
       "      <td>2.0</td>\n",
       "      <td>1.0</td>\n",
       "      <td>0.182999</td>\n",
       "      <td>0.070797</td>\n",
       "      <td>-0.164165</td>\n",
       "      <td>0.0</td>\n",
       "    </tr>\n",
       "  </tbody>\n",
       "</table>\n",
       "<p>5 rows × 431 columns</p>\n",
       "</div>"
      ],
      "text/plain": [
       "   Service_Capital/Adirond  Service_Central NY  Service_Finger Lakes   \n",
       "0                      0.0                 0.0                   0.0  \\\n",
       "1                      0.0                 0.0                   0.0   \n",
       "2                      0.0                 0.0                   1.0   \n",
       "3                      0.0                 1.0                   0.0   \n",
       "4                      0.0                 0.0                   0.0   \n",
       "\n",
       "   Service_Hudson Valley  Service_New York City  Service_Southern Tier   \n",
       "0                    1.0                    0.0                    0.0  \\\n",
       "1                    1.0                    0.0                    0.0   \n",
       "2                    0.0                    0.0                    0.0   \n",
       "3                    0.0                    0.0                    0.0   \n",
       "4                    1.0                    0.0                    0.0   \n",
       "\n",
       "   Service_Western NY  Albany  Allegany  Bronx  ...  Hospital Id  spend_hsptl   \n",
       "0                 0.0     0.0       0.0    0.0  ...       1072.0    -0.304453  \\\n",
       "1                 0.0     0.0       0.0    0.0  ...       1072.0    -0.304453   \n",
       "2                 0.0     0.0       0.0    0.0  ...        409.0     0.074160   \n",
       "3                 0.0     0.0       0.0    0.0  ...        598.0    -0.052045   \n",
       "4                 0.0     0.0       0.0    0.0  ...        699.0    -0.052045   \n",
       "\n",
       "   diagnosis_code  procedure_code  illness  Mortality risk     charg   \n",
       "0           218.0             0.0      1.0             1.0 -0.430422  \\\n",
       "1           183.0           140.0      2.0             1.0 -0.286036   \n",
       "2             2.0            63.0      4.0             4.0 -0.114402   \n",
       "3           250.0            70.0      3.0             3.0 -0.264284   \n",
       "4           159.0             0.0      2.0             1.0  0.182999   \n",
       "\n",
       "       cost  of_total_costs_to_total_charges  baby  \n",
       "0 -0.343200                         0.390320   1.0  \n",
       "1 -0.240337                        -0.016452   0.0  \n",
       "2 -0.056022                        -0.018525   0.0  \n",
       "3 -0.157092                         0.114231   0.0  \n",
       "4  0.070797                        -0.164165   0.0  \n",
       "\n",
       "[5 rows x 431 columns]"
      ]
     },
     "execution_count": 36,
     "metadata": {},
     "output_type": "execute_result"
    }
   ],
   "source": [
    "X_test.head()"
   ]
  },
  {
   "cell_type": "code",
   "execution_count": 37,
   "id": "5c21dbaa-79ff-4547-997d-bae0fa2756f5",
   "metadata": {},
   "outputs": [
    {
     "data": {
      "text/plain": [
       "(838860, 431)"
      ]
     },
     "execution_count": 37,
     "metadata": {},
     "output_type": "execute_result"
    }
   ],
   "source": [
    "X_train.shape"
   ]
  },
  {
   "cell_type": "code",
   "execution_count": 38,
   "id": "2e720470-bd63-4614-863c-8c05e40dd63c",
   "metadata": {},
   "outputs": [
    {
     "data": {
      "text/html": [
       "<style>#sk-container-id-1 {color: black;}#sk-container-id-1 pre{padding: 0;}#sk-container-id-1 div.sk-toggleable {background-color: white;}#sk-container-id-1 label.sk-toggleable__label {cursor: pointer;display: block;width: 100%;margin-bottom: 0;padding: 0.3em;box-sizing: border-box;text-align: center;}#sk-container-id-1 label.sk-toggleable__label-arrow:before {content: \"▸\";float: left;margin-right: 0.25em;color: #696969;}#sk-container-id-1 label.sk-toggleable__label-arrow:hover:before {color: black;}#sk-container-id-1 div.sk-estimator:hover label.sk-toggleable__label-arrow:before {color: black;}#sk-container-id-1 div.sk-toggleable__content {max-height: 0;max-width: 0;overflow: hidden;text-align: left;background-color: #f0f8ff;}#sk-container-id-1 div.sk-toggleable__content pre {margin: 0.2em;color: black;border-radius: 0.25em;background-color: #f0f8ff;}#sk-container-id-1 input.sk-toggleable__control:checked~div.sk-toggleable__content {max-height: 200px;max-width: 100%;overflow: auto;}#sk-container-id-1 input.sk-toggleable__control:checked~label.sk-toggleable__label-arrow:before {content: \"▾\";}#sk-container-id-1 div.sk-estimator input.sk-toggleable__control:checked~label.sk-toggleable__label {background-color: #d4ebff;}#sk-container-id-1 div.sk-label input.sk-toggleable__control:checked~label.sk-toggleable__label {background-color: #d4ebff;}#sk-container-id-1 input.sk-hidden--visually {border: 0;clip: rect(1px 1px 1px 1px);clip: rect(1px, 1px, 1px, 1px);height: 1px;margin: -1px;overflow: hidden;padding: 0;position: absolute;width: 1px;}#sk-container-id-1 div.sk-estimator {font-family: monospace;background-color: #f0f8ff;border: 1px dotted black;border-radius: 0.25em;box-sizing: border-box;margin-bottom: 0.5em;}#sk-container-id-1 div.sk-estimator:hover {background-color: #d4ebff;}#sk-container-id-1 div.sk-parallel-item::after {content: \"\";width: 100%;border-bottom: 1px solid gray;flex-grow: 1;}#sk-container-id-1 div.sk-label:hover label.sk-toggleable__label {background-color: #d4ebff;}#sk-container-id-1 div.sk-serial::before {content: \"\";position: absolute;border-left: 1px solid gray;box-sizing: border-box;top: 0;bottom: 0;left: 50%;z-index: 0;}#sk-container-id-1 div.sk-serial {display: flex;flex-direction: column;align-items: center;background-color: white;padding-right: 0.2em;padding-left: 0.2em;position: relative;}#sk-container-id-1 div.sk-item {position: relative;z-index: 1;}#sk-container-id-1 div.sk-parallel {display: flex;align-items: stretch;justify-content: center;background-color: white;position: relative;}#sk-container-id-1 div.sk-item::before, #sk-container-id-1 div.sk-parallel-item::before {content: \"\";position: absolute;border-left: 1px solid gray;box-sizing: border-box;top: 0;bottom: 0;left: 50%;z-index: -1;}#sk-container-id-1 div.sk-parallel-item {display: flex;flex-direction: column;z-index: 1;position: relative;background-color: white;}#sk-container-id-1 div.sk-parallel-item:first-child::after {align-self: flex-end;width: 50%;}#sk-container-id-1 div.sk-parallel-item:last-child::after {align-self: flex-start;width: 50%;}#sk-container-id-1 div.sk-parallel-item:only-child::after {width: 0;}#sk-container-id-1 div.sk-dashed-wrapped {border: 1px dashed gray;margin: 0 0.4em 0.5em 0.4em;box-sizing: border-box;padding-bottom: 0.4em;background-color: white;}#sk-container-id-1 div.sk-label label {font-family: monospace;font-weight: bold;display: inline-block;line-height: 1.2em;}#sk-container-id-1 div.sk-label-container {text-align: center;}#sk-container-id-1 div.sk-container {/* jupyter's `normalize.less` sets `[hidden] { display: none; }` but bootstrap.min.css set `[hidden] { display: none !important; }` so we also need the `!important` here to be able to override the default hidden behavior on the sphinx rendered scikit-learn.org. See: https://github.com/scikit-learn/scikit-learn/issues/21755 */display: inline-block !important;position: relative;}#sk-container-id-1 div.sk-text-repr-fallback {display: none;}</style><div id=\"sk-container-id-1\" class=\"sk-top-container\"><div class=\"sk-text-repr-fallback\"><pre>PCA()</pre><b>In a Jupyter environment, please rerun this cell to show the HTML representation or trust the notebook. <br />On GitHub, the HTML representation is unable to render, please try loading this page with nbviewer.org.</b></div><div class=\"sk-container\" hidden><div class=\"sk-item\"><div class=\"sk-estimator sk-toggleable\"><input class=\"sk-toggleable__control sk-hidden--visually\" id=\"sk-estimator-id-1\" type=\"checkbox\" checked><label for=\"sk-estimator-id-1\" class=\"sk-toggleable__label sk-toggleable__label-arrow\">PCA</label><div class=\"sk-toggleable__content\"><pre>PCA()</pre></div></div></div></div></div>"
      ],
      "text/plain": [
       "PCA()"
      ]
     },
     "execution_count": 38,
     "metadata": {},
     "output_type": "execute_result"
    }
   ],
   "source": [
    "pca = PCA()\n",
    "pca.fit(X_train)"
   ]
  },
  {
   "cell_type": "code",
   "execution_count": 39,
   "id": "c6e6022a-6690-433f-b34e-e9a260f3c2a2",
   "metadata": {},
   "outputs": [
    {
     "name": "stdout",
     "output_type": "stream",
     "text": [
      "(838860, 431)\n"
     ]
    }
   ],
   "source": [
    "X_train_hat = pca.transform(X_train)\n",
    "print(X_train_hat.shape)"
   ]
  },
  {
   "cell_type": "code",
   "execution_count": 40,
   "id": "381020fa-ba09-4c09-9e72-653955b168c3",
   "metadata": {},
   "outputs": [
    {
     "data": {
      "text/plain": [
       "Text(0.5, 1.0, 'Component-wise variance and cumulative explained variance')"
      ]
     },
     "execution_count": 40,
     "metadata": {},
     "output_type": "execute_result"
    },
    {
     "data": {
      "image/png": "[encoded data removed]",
      "text/plain": [
       "<Figure size 640x480 with 1 Axes>"
      ]
     },
     "metadata": {},
     "output_type": "display_data"
    }
   ],
   "source": [
    "plt.plot(pca.explained_variance_ratio_)\n",
    "plt.plot(np.cumsum(pca.explained_variance_ratio_))\n",
    "plt.title(\"Component-wise variance and cumulative explained variance\")"
   ]
  },
  {
   "cell_type": "code",
   "execution_count": 41,
   "id": "db257954-7181-42c0-8763-1aa16c7ea4b9",
   "metadata": {},
   "outputs": [
    {
     "name": "stdout",
     "output_type": "stream",
     "text": [
      "Number of components required to explain 99.99% variance: 3\n"
     ]
    }
   ],
   "source": [
    "n_components = np.argmax(np.cumsum(pca.explained_variance_ratio_) >= 0.9999) + 1\n",
    "\n",
    "# Print the number of components required\n",
    "print(\"Number of components required to explain 99.99% variance:\", n_components)"
   ]
  },
  {
   "cell_type": "code",
   "execution_count": 42,
   "id": "b58ff4da-9ba9-4e8c-8891-861e722336c1",
   "metadata": {},
   "outputs": [
    {
     "name": "stdout",
     "output_type": "stream",
     "text": [
      "(209715, 431)\n"
     ]
    }
   ],
   "source": [
    "X_test_hat = pca.transform(X_test)\n",
    "print(X_test_hat.shape)"
   ]
  },
  {
   "cell_type": "code",
   "execution_count": 43,
   "id": "8dfb837e-da02-49df-b7db-259ed0c84b6f",
   "metadata": {},
   "outputs": [
    {
     "data": {
      "text/html": [
       "<div>\n",
       "<style scoped>\n",
       "    .dataframe tbody tr th:only-of-type {\n",
       "        vertical-align: middle;\n",
       "    }\n",
       "\n",
       "    .dataframe tbody tr th {\n",
       "        vertical-align: top;\n",
       "    }\n",
       "\n",
       "    .dataframe thead th {\n",
       "        text-align: right;\n",
       "    }\n",
       "</style>\n",
       "<table border=\"1\" class=\"dataframe\">\n",
       "  <thead>\n",
       "    <tr style=\"text-align: right;\">\n",
       "      <th></th>\n",
       "      <th>Projection  on Component 1</th>\n",
       "      <th>Projection  on Component 2</th>\n",
       "      <th>Projection  on Component 3</th>\n",
       "      <th>Projection  on Component 4</th>\n",
       "      <th>Projection  on Component 5</th>\n",
       "      <th>Projection  on Component 6</th>\n",
       "      <th>Projection  on Component 7</th>\n",
       "      <th>Projection  on Component 8</th>\n",
       "      <th>Projection  on Component 9</th>\n",
       "      <th>Projection  on Component 10</th>\n",
       "      <th>...</th>\n",
       "      <th>Projection  on Component 422</th>\n",
       "      <th>Projection  on Component 423</th>\n",
       "      <th>Projection  on Component 424</th>\n",
       "      <th>Projection  on Component 425</th>\n",
       "      <th>Projection  on Component 426</th>\n",
       "      <th>Projection  on Component 427</th>\n",
       "      <th>Projection  on Component 428</th>\n",
       "      <th>Projection  on Component 429</th>\n",
       "      <th>Projection  on Component 430</th>\n",
       "      <th>Projection  on Component 431</th>\n",
       "    </tr>\n",
       "  </thead>\n",
       "  <tbody>\n",
       "    <tr>\n",
       "      <th>0</th>\n",
       "      <td>514.304733</td>\n",
       "      <td>-201.296297</td>\n",
       "      <td>70.917232</td>\n",
       "      <td>3.841331</td>\n",
       "      <td>-1.136645</td>\n",
       "      <td>-0.435523</td>\n",
       "      <td>-0.144737</td>\n",
       "      <td>-0.724012</td>\n",
       "      <td>0.286381</td>\n",
       "      <td>1.774998</td>\n",
       "      <td>...</td>\n",
       "      <td>-3.677614e-16</td>\n",
       "      <td>1.391248e-15</td>\n",
       "      <td>5.134781e-16</td>\n",
       "      <td>-3.469447e-17</td>\n",
       "      <td>9.887924e-17</td>\n",
       "      <td>2.081668e-17</td>\n",
       "      <td>-1.387779e-17</td>\n",
       "      <td>-2.038300e-17</td>\n",
       "      <td>4.906480e-14</td>\n",
       "      <td>8.059409e-14</td>\n",
       "    </tr>\n",
       "    <tr>\n",
       "      <th>1</th>\n",
       "      <td>182.886325</td>\n",
       "      <td>453.964858</td>\n",
       "      <td>-114.283219</td>\n",
       "      <td>-0.444071</td>\n",
       "      <td>-0.236075</td>\n",
       "      <td>0.005917</td>\n",
       "      <td>-0.634976</td>\n",
       "      <td>-0.636049</td>\n",
       "      <td>-0.067588</td>\n",
       "      <td>-0.139108</td>\n",
       "      <td>...</td>\n",
       "      <td>-1.131907e-15</td>\n",
       "      <td>-1.987126e-15</td>\n",
       "      <td>1.439820e-16</td>\n",
       "      <td>-2.775558e-17</td>\n",
       "      <td>-1.318390e-16</td>\n",
       "      <td>-1.249001e-16</td>\n",
       "      <td>-2.255141e-17</td>\n",
       "      <td>5.355959e-17</td>\n",
       "      <td>1.144759e-13</td>\n",
       "      <td>-7.353247e-14</td>\n",
       "    </tr>\n",
       "    <tr>\n",
       "      <th>2</th>\n",
       "      <td>-15.927570</td>\n",
       "      <td>6.508985</td>\n",
       "      <td>54.676567</td>\n",
       "      <td>-0.335190</td>\n",
       "      <td>0.741053</td>\n",
       "      <td>-0.254397</td>\n",
       "      <td>-1.331161</td>\n",
       "      <td>-0.618550</td>\n",
       "      <td>0.672786</td>\n",
       "      <td>-0.422346</td>\n",
       "      <td>...</td>\n",
       "      <td>-3.226586e-16</td>\n",
       "      <td>-3.434752e-16</td>\n",
       "      <td>-1.179612e-16</td>\n",
       "      <td>0.000000e+00</td>\n",
       "      <td>1.734723e-16</td>\n",
       "      <td>0.000000e+00</td>\n",
       "      <td>9.020562e-17</td>\n",
       "      <td>1.084202e-18</td>\n",
       "      <td>-5.151326e-14</td>\n",
       "      <td>-2.906425e-14</td>\n",
       "    </tr>\n",
       "    <tr>\n",
       "      <th>3</th>\n",
       "      <td>-21.638676</td>\n",
       "      <td>38.861176</td>\n",
       "      <td>-20.541097</td>\n",
       "      <td>0.298760</td>\n",
       "      <td>-0.158997</td>\n",
       "      <td>-0.115525</td>\n",
       "      <td>-1.625112</td>\n",
       "      <td>-0.398296</td>\n",
       "      <td>0.160974</td>\n",
       "      <td>-0.218898</td>\n",
       "      <td>...</td>\n",
       "      <td>-1.387779e-17</td>\n",
       "      <td>-8.014422e-16</td>\n",
       "      <td>-3.816392e-16</td>\n",
       "      <td>1.457168e-16</td>\n",
       "      <td>2.324529e-16</td>\n",
       "      <td>-1.110223e-16</td>\n",
       "      <td>-8.326673e-17</td>\n",
       "      <td>-6.071532e-18</td>\n",
       "      <td>-4.822724e-14</td>\n",
       "      <td>-3.257534e-14</td>\n",
       "    </tr>\n",
       "    <tr>\n",
       "      <th>4</th>\n",
       "      <td>-438.352620</td>\n",
       "      <td>-165.320055</td>\n",
       "      <td>42.020706</td>\n",
       "      <td>0.291911</td>\n",
       "      <td>1.329039</td>\n",
       "      <td>-0.648133</td>\n",
       "      <td>-0.596661</td>\n",
       "      <td>-0.584287</td>\n",
       "      <td>0.287371</td>\n",
       "      <td>0.456316</td>\n",
       "      <td>...</td>\n",
       "      <td>-7.112366e-17</td>\n",
       "      <td>2.074729e-15</td>\n",
       "      <td>2.879641e-16</td>\n",
       "      <td>2.775558e-17</td>\n",
       "      <td>7.016956e-16</td>\n",
       "      <td>-6.938894e-18</td>\n",
       "      <td>2.272488e-16</td>\n",
       "      <td>1.322727e-17</td>\n",
       "      <td>-1.706781e-13</td>\n",
       "      <td>-2.028948e-13</td>\n",
       "    </tr>\n",
       "  </tbody>\n",
       "</table>\n",
       "<p>5 rows × 431 columns</p>\n",
       "</div>"
      ],
      "text/plain": [
       "   Projection  on Component 1  Projection  on Component 2   \n",
       "0                  514.304733                 -201.296297  \\\n",
       "1                  182.886325                  453.964858   \n",
       "2                  -15.927570                    6.508985   \n",
       "3                  -21.638676                   38.861176   \n",
       "4                 -438.352620                 -165.320055   \n",
       "\n",
       "   Projection  on Component 3  Projection  on Component 4   \n",
       "0                   70.917232                    3.841331  \\\n",
       "1                 -114.283219                   -0.444071   \n",
       "2                   54.676567                   -0.335190   \n",
       "3                  -20.541097                    0.298760   \n",
       "4                   42.020706                    0.291911   \n",
       "\n",
       "   Projection  on Component 5  Projection  on Component 6   \n",
       "0                   -1.136645                   -0.435523  \\\n",
       "1                   -0.236075                    0.005917   \n",
       "2                    0.741053                   -0.254397   \n",
       "3                   -0.158997                   -0.115525   \n",
       "4                    1.329039                   -0.648133   \n",
       "\n",
       "   Projection  on Component 7  Projection  on Component 8   \n",
       "0                   -0.144737                   -0.724012  \\\n",
       "1                   -0.634976                   -0.636049   \n",
       "2                   -1.331161                   -0.618550   \n",
       "3                   -1.625112                   -0.398296   \n",
       "4                   -0.596661                   -0.584287   \n",
       "\n",
       "   Projection  on Component 9  Projection  on Component 10  ...   \n",
       "0                    0.286381                     1.774998  ...  \\\n",
       "1                   -0.067588                    -0.139108  ...   \n",
       "2                    0.672786                    -0.422346  ...   \n",
       "3                    0.160974                    -0.218898  ...   \n",
       "4                    0.287371                     0.456316  ...   \n",
       "\n",
       "   Projection  on Component 422  Projection  on Component 423   \n",
       "0                 -3.677614e-16                  1.391248e-15  \\\n",
       "1                 -1.131907e-15                 -1.987126e-15   \n",
       "2                 -3.226586e-16                 -3.434752e-16   \n",
       "3                 -1.387779e-17                 -8.014422e-16   \n",
       "4                 -7.112366e-17                  2.074729e-15   \n",
       "\n",
       "   Projection  on Component 424  Projection  on Component 425   \n",
       "0                  5.134781e-16                 -3.469447e-17  \\\n",
       "1                  1.439820e-16                 -2.775558e-17   \n",
       "2                 -1.179612e-16                  0.000000e+00   \n",
       "3                 -3.816392e-16                  1.457168e-16   \n",
       "4                  2.879641e-16                  2.775558e-17   \n",
       "\n",
       "   Projection  on Component 426  Projection  on Component 427   \n",
       "0                  9.887924e-17                  2.081668e-17  \\\n",
       "1                 -1.318390e-16                 -1.249001e-16   \n",
       "2                  1.734723e-16                  0.000000e+00   \n",
       "3                  2.324529e-16                 -1.110223e-16   \n",
       "4                  7.016956e-16                 -6.938894e-18   \n",
       "\n",
       "   Projection  on Component 428  Projection  on Component 429   \n",
       "0                 -1.387779e-17                 -2.038300e-17  \\\n",
       "1                 -2.255141e-17                  5.355959e-17   \n",
       "2                  9.020562e-17                  1.084202e-18   \n",
       "3                 -8.326673e-17                 -6.071532e-18   \n",
       "4                  2.272488e-16                  1.322727e-17   \n",
       "\n",
       "   Projection  on Component 430  Projection  on Component 431  \n",
       "0                  4.906480e-14                  8.059409e-14  \n",
       "1                  1.144759e-13                 -7.353247e-14  \n",
       "2                 -5.151326e-14                 -2.906425e-14  \n",
       "3                 -4.822724e-14                 -3.257534e-14  \n",
       "4                 -1.706781e-13                 -2.028948e-13  \n",
       "\n",
       "[5 rows x 431 columns]"
      ]
     },
     "execution_count": 43,
     "metadata": {},
     "output_type": "execute_result"
    }
   ],
   "source": [
    "X_train_hat_PCA = pd.DataFrame(columns=[f'Projection  on Component {i+1}' for i in range(len(X_train.columns))], data=X_train_hat)\n",
    "X_train_hat_PCA.head()"
   ]
  },
  {
   "cell_type": "code",
   "execution_count": 44,
   "id": "e57799ee-6e8a-4c0c-8370-2597f2910274",
   "metadata": {},
   "outputs": [
    {
     "data": {
      "text/html": [
       "<div>\n",
       "<style scoped>\n",
       "    .dataframe tbody tr th:only-of-type {\n",
       "        vertical-align: middle;\n",
       "    }\n",
       "\n",
       "    .dataframe tbody tr th {\n",
       "        vertical-align: top;\n",
       "    }\n",
       "\n",
       "    .dataframe thead th {\n",
       "        text-align: right;\n",
       "    }\n",
       "</style>\n",
       "<table border=\"1\" class=\"dataframe\">\n",
       "  <thead>\n",
       "    <tr style=\"text-align: right;\">\n",
       "      <th></th>\n",
       "      <th>Projection  on Component 1</th>\n",
       "      <th>Projection  on Component 2</th>\n",
       "      <th>Projection  on Component 3</th>\n",
       "      <th>Projection  on Component 4</th>\n",
       "      <th>Projection  on Component 5</th>\n",
       "      <th>Projection  on Component 6</th>\n",
       "      <th>Projection  on Component 7</th>\n",
       "      <th>Projection  on Component 8</th>\n",
       "      <th>Projection  on Component 9</th>\n",
       "      <th>Projection  on Component 10</th>\n",
       "      <th>...</th>\n",
       "      <th>Projection  on Component 422</th>\n",
       "      <th>Projection  on Component 423</th>\n",
       "      <th>Projection  on Component 424</th>\n",
       "      <th>Projection  on Component 425</th>\n",
       "      <th>Projection  on Component 426</th>\n",
       "      <th>Projection  on Component 427</th>\n",
       "      <th>Projection  on Component 428</th>\n",
       "      <th>Projection  on Component 429</th>\n",
       "      <th>Projection  on Component 430</th>\n",
       "      <th>Projection  on Component 431</th>\n",
       "    </tr>\n",
       "  </thead>\n",
       "  <tbody>\n",
       "    <tr>\n",
       "      <th>0</th>\n",
       "      <td>419.847244</td>\n",
       "      <td>9.967571</td>\n",
       "      <td>-98.667078</td>\n",
       "      <td>-1.325401</td>\n",
       "      <td>1.424128</td>\n",
       "      <td>-0.143327</td>\n",
       "      <td>-0.301438</td>\n",
       "      <td>0.185610</td>\n",
       "      <td>-1.537889</td>\n",
       "      <td>0.375166</td>\n",
       "      <td>...</td>\n",
       "      <td>-3.452100e-16</td>\n",
       "      <td>-2.463307e-16</td>\n",
       "      <td>1.804112e-16</td>\n",
       "      <td>2.428613e-17</td>\n",
       "      <td>1.023487e-16</td>\n",
       "      <td>-6.483529e-17</td>\n",
       "      <td>-8.673617e-19</td>\n",
       "      <td>-6.464555e-18</td>\n",
       "      <td>9.886079e-16</td>\n",
       "      <td>-2.215518e-14</td>\n",
       "    </tr>\n",
       "    <tr>\n",
       "      <th>1</th>\n",
       "      <td>419.727342</td>\n",
       "      <td>-19.895673</td>\n",
       "      <td>42.517482</td>\n",
       "      <td>-0.913856</td>\n",
       "      <td>0.771215</td>\n",
       "      <td>-0.319100</td>\n",
       "      <td>-0.462229</td>\n",
       "      <td>-0.571835</td>\n",
       "      <td>-0.281212</td>\n",
       "      <td>0.560604</td>\n",
       "      <td>...</td>\n",
       "      <td>3.321995e-16</td>\n",
       "      <td>1.468443e-15</td>\n",
       "      <td>5.741935e-16</td>\n",
       "      <td>-1.387779e-17</td>\n",
       "      <td>2.714842e-16</td>\n",
       "      <td>-5.551115e-17</td>\n",
       "      <td>4.857226e-17</td>\n",
       "      <td>4.011548e-18</td>\n",
       "      <td>-6.249866e-15</td>\n",
       "      <td>-1.213460e-14</td>\n",
       "    </tr>\n",
       "    <tr>\n",
       "      <th>2</th>\n",
       "      <td>-245.875446</td>\n",
       "      <td>-194.477427</td>\n",
       "      <td>-26.458261</td>\n",
       "      <td>1.306772</td>\n",
       "      <td>-2.248653</td>\n",
       "      <td>0.978905</td>\n",
       "      <td>-0.821182</td>\n",
       "      <td>-0.544065</td>\n",
       "      <td>-0.574191</td>\n",
       "      <td>-0.011453</td>\n",
       "      <td>...</td>\n",
       "      <td>-2.411266e-16</td>\n",
       "      <td>-8.326673e-17</td>\n",
       "      <td>-3.434752e-16</td>\n",
       "      <td>1.179612e-16</td>\n",
       "      <td>4.250073e-17</td>\n",
       "      <td>-3.469447e-18</td>\n",
       "      <td>-2.949030e-17</td>\n",
       "      <td>-7.296681e-17</td>\n",
       "      <td>-4.253262e-14</td>\n",
       "      <td>3.230552e-15</td>\n",
       "    </tr>\n",
       "    <tr>\n",
       "      <th>3</th>\n",
       "      <td>-53.492379</td>\n",
       "      <td>50.997273</td>\n",
       "      <td>-28.912265</td>\n",
       "      <td>0.717113</td>\n",
       "      <td>-1.719573</td>\n",
       "      <td>0.930601</td>\n",
       "      <td>-0.479230</td>\n",
       "      <td>-0.701276</td>\n",
       "      <td>-0.247234</td>\n",
       "      <td>-0.135553</td>\n",
       "      <td>...</td>\n",
       "      <td>-3.330669e-16</td>\n",
       "      <td>-4.406198e-16</td>\n",
       "      <td>-1.387779e-17</td>\n",
       "      <td>3.469447e-18</td>\n",
       "      <td>-1.734723e-17</td>\n",
       "      <td>-4.098284e-17</td>\n",
       "      <td>1.127570e-17</td>\n",
       "      <td>-3.113015e-17</td>\n",
       "      <td>-7.749938e-14</td>\n",
       "      <td>2.384734e-14</td>\n",
       "    </tr>\n",
       "    <tr>\n",
       "      <th>4</th>\n",
       "      <td>46.078028</td>\n",
       "      <td>-43.870083</td>\n",
       "      <td>-95.748662</td>\n",
       "      <td>-0.127525</td>\n",
       "      <td>0.274948</td>\n",
       "      <td>-0.243789</td>\n",
       "      <td>0.881091</td>\n",
       "      <td>-0.715139</td>\n",
       "      <td>0.149712</td>\n",
       "      <td>-0.155949</td>\n",
       "      <td>...</td>\n",
       "      <td>-2.099015e-16</td>\n",
       "      <td>-5.412337e-16</td>\n",
       "      <td>-3.833739e-16</td>\n",
       "      <td>1.144917e-16</td>\n",
       "      <td>-2.740863e-16</td>\n",
       "      <td>2.005774e-17</td>\n",
       "      <td>4.683753e-17</td>\n",
       "      <td>-5.347827e-17</td>\n",
       "      <td>2.825534e-14</td>\n",
       "      <td>6.889151e-14</td>\n",
       "    </tr>\n",
       "  </tbody>\n",
       "</table>\n",
       "<p>5 rows × 431 columns</p>\n",
       "</div>"
      ],
      "text/plain": [
       "   Projection  on Component 1  Projection  on Component 2   \n",
       "0                  419.847244                    9.967571  \\\n",
       "1                  419.727342                  -19.895673   \n",
       "2                 -245.875446                 -194.477427   \n",
       "3                  -53.492379                   50.997273   \n",
       "4                   46.078028                  -43.870083   \n",
       "\n",
       "   Projection  on Component 3  Projection  on Component 4   \n",
       "0                  -98.667078                   -1.325401  \\\n",
       "1                   42.517482                   -0.913856   \n",
       "2                  -26.458261                    1.306772   \n",
       "3                  -28.912265                    0.717113   \n",
       "4                  -95.748662                   -0.127525   \n",
       "\n",
       "   Projection  on Component 5  Projection  on Component 6   \n",
       "0                    1.424128                   -0.143327  \\\n",
       "1                    0.771215                   -0.319100   \n",
       "2                   -2.248653                    0.978905   \n",
       "3                   -1.719573                    0.930601   \n",
       "4                    0.274948                   -0.243789   \n",
       "\n",
       "   Projection  on Component 7  Projection  on Component 8   \n",
       "0                   -0.301438                    0.185610  \\\n",
       "1                   -0.462229                   -0.571835   \n",
       "2                   -0.821182                   -0.544065   \n",
       "3                   -0.479230                   -0.701276   \n",
       "4                    0.881091                   -0.715139   \n",
       "\n",
       "   Projection  on Component 9  Projection  on Component 10  ...   \n",
       "0                   -1.537889                     0.375166  ...  \\\n",
       "1                   -0.281212                     0.560604  ...   \n",
       "2                   -0.574191                    -0.011453  ...   \n",
       "3                   -0.247234                    -0.135553  ...   \n",
       "4                    0.149712                    -0.155949  ...   \n",
       "\n",
       "   Projection  on Component 422  Projection  on Component 423   \n",
       "0                 -3.452100e-16                 -2.463307e-16  \\\n",
       "1                  3.321995e-16                  1.468443e-15   \n",
       "2                 -2.411266e-16                 -8.326673e-17   \n",
       "3                 -3.330669e-16                 -4.406198e-16   \n",
       "4                 -2.099015e-16                 -5.412337e-16   \n",
       "\n",
       "   Projection  on Component 424  Projection  on Component 425   \n",
       "0                  1.804112e-16                  2.428613e-17  \\\n",
       "1                  5.741935e-16                 -1.387779e-17   \n",
       "2                 -3.434752e-16                  1.179612e-16   \n",
       "3                 -1.387779e-17                  3.469447e-18   \n",
       "4                 -3.833739e-16                  1.144917e-16   \n",
       "\n",
       "   Projection  on Component 426  Projection  on Component 427   \n",
       "0                  1.023487e-16                 -6.483529e-17  \\\n",
       "1                  2.714842e-16                 -5.551115e-17   \n",
       "2                  4.250073e-17                 -3.469447e-18   \n",
       "3                 -1.734723e-17                 -4.098284e-17   \n",
       "4                 -2.740863e-16                  2.005774e-17   \n",
       "\n",
       "   Projection  on Component 428  Projection  on Component 429   \n",
       "0                 -8.673617e-19                 -6.464555e-18  \\\n",
       "1                  4.857226e-17                  4.011548e-18   \n",
       "2                 -2.949030e-17                 -7.296681e-17   \n",
       "3                  1.127570e-17                 -3.113015e-17   \n",
       "4                  4.683753e-17                 -5.347827e-17   \n",
       "\n",
       "   Projection  on Component 430  Projection  on Component 431  \n",
       "0                  9.886079e-16                 -2.215518e-14  \n",
       "1                 -6.249866e-15                 -1.213460e-14  \n",
       "2                 -4.253262e-14                  3.230552e-15  \n",
       "3                 -7.749938e-14                  2.384734e-14  \n",
       "4                  2.825534e-14                  6.889151e-14  \n",
       "\n",
       "[5 rows x 431 columns]"
      ]
     },
     "execution_count": 44,
     "metadata": {},
     "output_type": "execute_result"
    }
   ],
   "source": [
    "X_test_hat_PCA = pd.DataFrame(columns=[f'Projection  on Component {i+1}' for i in range(len(X_train.columns))], data=X_test_hat)\n",
    "X_test_hat_PCA.head()"
   ]
  },
  {
   "cell_type": "code",
   "execution_count": 45,
   "id": "f267ef7a-e0bf-4d1f-911f-9eaf3d1d1a89",
   "metadata": {},
   "outputs": [],
   "source": [
    "N = 4\n",
    "X_train_hat_PCA = X_train_hat_PCA.iloc[:, :N]"
   ]
  },
  {
   "cell_type": "code",
   "execution_count": 46,
   "id": "6a254c9e-926f-4c46-9403-d57fba6bd62d",
   "metadata": {},
   "outputs": [],
   "source": [
    "X_test_hat_PCA = X_test_hat_PCA.iloc[:, :N]"
   ]
  },
  {
   "cell_type": "code",
   "execution_count": 47,
   "id": "9a255e06-b81b-4546-ac7a-1fb1d34a0384",
   "metadata": {},
   "outputs": [],
   "source": [
    "rf_pca = RandomForestClassifier(bootstrap = True,\n",
    "                                                 criterion = 'entropy', \n",
    "                                                  max_depth =  5, \n",
    "                                                 n_estimators = 40, n_jobs = 8, \n",
    "                                                 random_state = 1)"
   ]
  },
  {
   "cell_type": "code",
   "execution_count": 48,
   "id": "525f9f39-34ca-4e5a-8a60-22eb3e3783f8",
   "metadata": {},
   "outputs": [
    {
     "data": {
      "text/html": [
       "<style>#sk-container-id-2 {color: black;}#sk-container-id-2 pre{padding: 0;}#sk-container-id-2 div.sk-toggleable {background-color: white;}#sk-container-id-2 label.sk-toggleable__label {cursor: pointer;display: block;width: 100%;margin-bottom: 0;padding: 0.3em;box-sizing: border-box;text-align: center;}#sk-container-id-2 label.sk-toggleable__label-arrow:before {content: \"▸\";float: left;margin-right: 0.25em;color: #696969;}#sk-container-id-2 label.sk-toggleable__label-arrow:hover:before {color: black;}#sk-container-id-2 div.sk-estimator:hover label.sk-toggleable__label-arrow:before {color: black;}#sk-container-id-2 div.sk-toggleable__content {max-height: 0;max-width: 0;overflow: hidden;text-align: left;background-color: #f0f8ff;}#sk-container-id-2 div.sk-toggleable__content pre {margin: 0.2em;color: black;border-radius: 0.25em;background-color: #f0f8ff;}#sk-container-id-2 input.sk-toggleable__control:checked~div.sk-toggleable__content {max-height: 200px;max-width: 100%;overflow: auto;}#sk-container-id-2 input.sk-toggleable__control:checked~label.sk-toggleable__label-arrow:before {content: \"▾\";}#sk-container-id-2 div.sk-estimator input.sk-toggleable__control:checked~label.sk-toggleable__label {background-color: #d4ebff;}#sk-container-id-2 div.sk-label input.sk-toggleable__control:checked~label.sk-toggleable__label {background-color: #d4ebff;}#sk-container-id-2 input.sk-hidden--visually {border: 0;clip: rect(1px 1px 1px 1px);clip: rect(1px, 1px, 1px, 1px);height: 1px;margin: -1px;overflow: hidden;padding: 0;position: absolute;width: 1px;}#sk-container-id-2 div.sk-estimator {font-family: monospace;background-color: #f0f8ff;border: 1px dotted black;border-radius: 0.25em;box-sizing: border-box;margin-bottom: 0.5em;}#sk-container-id-2 div.sk-estimator:hover {background-color: #d4ebff;}#sk-container-id-2 div.sk-parallel-item::after {content: \"\";width: 100%;border-bottom: 1px solid gray;flex-grow: 1;}#sk-container-id-2 div.sk-label:hover label.sk-toggleable__label {background-color: #d4ebff;}#sk-container-id-2 div.sk-serial::before {content: \"\";position: absolute;border-left: 1px solid gray;box-sizing: border-box;top: 0;bottom: 0;left: 50%;z-index: 0;}#sk-container-id-2 div.sk-serial {display: flex;flex-direction: column;align-items: center;background-color: white;padding-right: 0.2em;padding-left: 0.2em;position: relative;}#sk-container-id-2 div.sk-item {position: relative;z-index: 1;}#sk-container-id-2 div.sk-parallel {display: flex;align-items: stretch;justify-content: center;background-color: white;position: relative;}#sk-container-id-2 div.sk-item::before, #sk-container-id-2 div.sk-parallel-item::before {content: \"\";position: absolute;border-left: 1px solid gray;box-sizing: border-box;top: 0;bottom: 0;left: 50%;z-index: -1;}#sk-container-id-2 div.sk-parallel-item {display: flex;flex-direction: column;z-index: 1;position: relative;background-color: white;}#sk-container-id-2 div.sk-parallel-item:first-child::after {align-self: flex-end;width: 50%;}#sk-container-id-2 div.sk-parallel-item:last-child::after {align-self: flex-start;width: 50%;}#sk-container-id-2 div.sk-parallel-item:only-child::after {width: 0;}#sk-container-id-2 div.sk-dashed-wrapped {border: 1px dashed gray;margin: 0 0.4em 0.5em 0.4em;box-sizing: border-box;padding-bottom: 0.4em;background-color: white;}#sk-container-id-2 div.sk-label label {font-family: monospace;font-weight: bold;display: inline-block;line-height: 1.2em;}#sk-container-id-2 div.sk-label-container {text-align: center;}#sk-container-id-2 div.sk-container {/* jupyter's `normalize.less` sets `[hidden] { display: none; }` but bootstrap.min.css set `[hidden] { display: none !important; }` so we also need the `!important` here to be able to override the default hidden behavior on the sphinx rendered scikit-learn.org. See: https://github.com/scikit-learn/scikit-learn/issues/21755 */display: inline-block !important;position: relative;}#sk-container-id-2 div.sk-text-repr-fallback {display: none;}</style><div id=\"sk-container-id-2\" class=\"sk-top-container\"><div class=\"sk-text-repr-fallback\"><pre>RandomForestClassifier(criterion=&#x27;entropy&#x27;, max_depth=5, n_estimators=40,\n",
       "                       n_jobs=8, random_state=1)</pre><b>In a Jupyter environment, please rerun this cell to show the HTML representation or trust the notebook. <br />On GitHub, the HTML representation is unable to render, please try loading this page with nbviewer.org.</b></div><div class=\"sk-container\" hidden><div class=\"sk-item\"><div class=\"sk-estimator sk-toggleable\"><input class=\"sk-toggleable__control sk-hidden--visually\" id=\"sk-estimator-id-2\" type=\"checkbox\" checked><label for=\"sk-estimator-id-2\" class=\"sk-toggleable__label sk-toggleable__label-arrow\">RandomForestClassifier</label><div class=\"sk-toggleable__content\"><pre>RandomForestClassifier(criterion=&#x27;entropy&#x27;, max_depth=5, n_estimators=40,\n",
       "                       n_jobs=8, random_state=1)</pre></div></div></div></div></div>"
      ],
      "text/plain": [
       "RandomForestClassifier(criterion='entropy', max_depth=5, n_estimators=40,\n",
       "                       n_jobs=8, random_state=1)"
      ]
     },
     "execution_count": 48,
     "metadata": {},
     "output_type": "execute_result"
    }
   ],
   "source": [
    "rf_pca.fit(X_train_hat_PCA,y_train)"
   ]
  },
  {
   "cell_type": "code",
   "execution_count": 49,
   "id": "90d9f51d-6522-47d8-9763-1dc87dca65a7",
   "metadata": {},
   "outputs": [],
   "source": [
    "y_preds_rf_pca=rf_pca.predict(X_test_hat_PCA)"
   ]
  },
  {
   "cell_type": "code",
   "execution_count": 50,
   "id": "15f825b0-d5ea-4918-a6a6-edb3de24ffb2",
   "metadata": {},
   "outputs": [],
   "source": [
    "def evaluate_metrics(yt, yp):\n",
    "    accuracy = accuracy_score(yt, yp)\n",
    "    precision, recall, fbeta, support = precision_recall_fscore_support(yt, yp, beta=2, pos_label=1, average='binary')\n",
    "    auc = roc_auc_score(yt, yp)\n",
    "    print(f\"Accuracy is: {accuracy:.2f}\")\n",
    "    print(f\"Precision is: {precision:.2f}\")\n",
    "    print(f\"Recall is: {recall:.2f}\")\n",
    "    print(f\"Fscore is: {fbeta:.2f}\")\n",
    "    print(f\"AUC is: {auc:.2f}\")"
   ]
  },
  {
   "cell_type": "code",
   "execution_count": 51,
   "id": "fc6df4e3-a598-4c6d-85ca-95d59e2dec9b",
   "metadata": {},
   "outputs": [
    {
     "name": "stdout",
     "output_type": "stream",
     "text": [
      "Accuracy is: 0.75\n",
      "Precision is: 0.75\n",
      "Recall is: 1.00\n",
      "Fscore is: 0.94\n",
      "AUC is: 0.50\n"
     ]
    }
   ],
   "source": [
    "evaluate_metrics(y_test, y_preds_rf_pca)"
   ]
  },
  {
   "cell_type": "code",
   "execution_count": 52,
   "id": "83b0b4bd-ec18-4463-8b05-48fbbf1a8886",
   "metadata": {},
   "outputs": [],
   "source": [
    "# params_grid_rf_class_weight_pca = {\n",
    "#     'criterion': ['gini', 'entropy'],\n",
    "#     'max_depth': [1, 3, 5, 8],\n",
    "#     'n_estimators': [5,10,20,40],\n",
    "#     'class_weight': [{0:2, 1:1},{0:5,1:1},{0:3,1:1},\"balanced_subsample\"],\n",
    "#     'max_features': [\"log2\", \"sqrt\",None],\n",
    "#     }"
   ]
  },
  {
   "cell_type": "code",
   "execution_count": 53,
   "id": "40b139a2-1aa9-4928-a2a2-fb57bede3661",
   "metadata": {},
   "outputs": [],
   "source": [
    "# cv = StratifiedKFold(n_splits=5)"
   ]
  },
  {
   "cell_type": "code",
   "execution_count": 54,
   "id": "2480d725-9e7e-4bdd-91aa-ac099b86c3bc",
   "metadata": {},
   "outputs": [],
   "source": [
    "# rf_pca_class_weight_grid_search = GridSearchCV(estimator = rf_pca, \n",
    "#                            param_grid = params_grid_rf_class_weight_pca,\n",
    "#                            scoring='roc_auc',\n",
    "#                            cv = cv,n_jobs=8)"
   ]
  },
  {
   "cell_type": "code",
   "execution_count": 55,
   "id": "c277584d-84fc-4045-9263-4151e1e97a7b",
   "metadata": {},
   "outputs": [],
   "source": [
    "# rf_pca_class_weight_grid_search.fit(X_train_hat_PCA,y_train)"
   ]
  },
  {
   "cell_type": "code",
   "execution_count": 56,
   "id": "9cad83b4-eb87-40fc-8823-bc6ce972afae",
   "metadata": {},
   "outputs": [],
   "source": [
    "# rf_pca_class_weight_grid_search_best=rf_pca_class_weight_grid_search.best_estimator_\n",
    "# print(rf_pca_class_weight_grid_search_best.get_params())"
   ]
  },
  {
   "cell_type": "code",
   "execution_count": 57,
   "id": "399a93aa-e0e9-4d96-9790-fe6ec6a72e11",
   "metadata": {},
   "outputs": [],
   "source": [
    "# y_preds_rf_pca_class_weight_grid_search_best=rf_pca_class_weight_grid_search_best.predict(X_test_hat_PCA)"
   ]
  },
  {
   "cell_type": "code",
   "execution_count": 58,
   "id": "ade77b55-340f-4471-be8a-833bbfe72106",
   "metadata": {},
   "outputs": [],
   "source": [
    "# evaluate_metrics(y_test, y_preds_rf_pca_class_weight_grid_search_best)"
   ]
  },
  {
   "cell_type": "code",
   "execution_count": 59,
   "id": "77dc54d1-fde2-4982-9c47-8b077643a4a3",
   "metadata": {},
   "outputs": [],
   "source": [
    "rf_pca_class_weight_hp_tuned=RandomForestClassifier(bootstrap = True,\n",
    "                                                 class_weight ={0: 2, 1: 1}, criterion = 'gini', \n",
    "                                                  max_depth =  5, max_features = None, \n",
    "                                                 n_estimators = 5, n_jobs = 8, \n",
    "                                                 random_state = 1)"
   ]
  },
  {
   "cell_type": "code",
   "execution_count": 60,
   "id": "954a213c-d9b9-4521-b0fa-2f429b7c343b",
   "metadata": {},
   "outputs": [
    {
     "data": {
      "text/html": [
       "<style>#sk-container-id-3 {color: black;}#sk-container-id-3 pre{padding: 0;}#sk-container-id-3 div.sk-toggleable {background-color: white;}#sk-container-id-3 label.sk-toggleable__label {cursor: pointer;display: block;width: 100%;margin-bottom: 0;padding: 0.3em;box-sizing: border-box;text-align: center;}#sk-container-id-3 label.sk-toggleable__label-arrow:before {content: \"▸\";float: left;margin-right: 0.25em;color: #696969;}#sk-container-id-3 label.sk-toggleable__label-arrow:hover:before {color: black;}#sk-container-id-3 div.sk-estimator:hover label.sk-toggleable__label-arrow:before {color: black;}#sk-container-id-3 div.sk-toggleable__content {max-height: 0;max-width: 0;overflow: hidden;text-align: left;background-color: #f0f8ff;}#sk-container-id-3 div.sk-toggleable__content pre {margin: 0.2em;color: black;border-radius: 0.25em;background-color: #f0f8ff;}#sk-container-id-3 input.sk-toggleable__control:checked~div.sk-toggleable__content {max-height: 200px;max-width: 100%;overflow: auto;}#sk-container-id-3 input.sk-toggleable__control:checked~label.sk-toggleable__label-arrow:before {content: \"▾\";}#sk-container-id-3 div.sk-estimator input.sk-toggleable__control:checked~label.sk-toggleable__label {background-color: #d4ebff;}#sk-container-id-3 div.sk-label input.sk-toggleable__control:checked~label.sk-toggleable__label {background-color: #d4ebff;}#sk-container-id-3 input.sk-hidden--visually {border: 0;clip: rect(1px 1px 1px 1px);clip: rect(1px, 1px, 1px, 1px);height: 1px;margin: -1px;overflow: hidden;padding: 0;position: absolute;width: 1px;}#sk-container-id-3 div.sk-estimator {font-family: monospace;background-color: #f0f8ff;border: 1px dotted black;border-radius: 0.25em;box-sizing: border-box;margin-bottom: 0.5em;}#sk-container-id-3 div.sk-estimator:hover {background-color: #d4ebff;}#sk-container-id-3 div.sk-parallel-item::after {content: \"\";width: 100%;border-bottom: 1px solid gray;flex-grow: 1;}#sk-container-id-3 div.sk-label:hover label.sk-toggleable__label {background-color: #d4ebff;}#sk-container-id-3 div.sk-serial::before {content: \"\";position: absolute;border-left: 1px solid gray;box-sizing: border-box;top: 0;bottom: 0;left: 50%;z-index: 0;}#sk-container-id-3 div.sk-serial {display: flex;flex-direction: column;align-items: center;background-color: white;padding-right: 0.2em;padding-left: 0.2em;position: relative;}#sk-container-id-3 div.sk-item {position: relative;z-index: 1;}#sk-container-id-3 div.sk-parallel {display: flex;align-items: stretch;justify-content: center;background-color: white;position: relative;}#sk-container-id-3 div.sk-item::before, #sk-container-id-3 div.sk-parallel-item::before {content: \"\";position: absolute;border-left: 1px solid gray;box-sizing: border-box;top: 0;bottom: 0;left: 50%;z-index: -1;}#sk-container-id-3 div.sk-parallel-item {display: flex;flex-direction: column;z-index: 1;position: relative;background-color: white;}#sk-container-id-3 div.sk-parallel-item:first-child::after {align-self: flex-end;width: 50%;}#sk-container-id-3 div.sk-parallel-item:last-child::after {align-self: flex-start;width: 50%;}#sk-container-id-3 div.sk-parallel-item:only-child::after {width: 0;}#sk-container-id-3 div.sk-dashed-wrapped {border: 1px dashed gray;margin: 0 0.4em 0.5em 0.4em;box-sizing: border-box;padding-bottom: 0.4em;background-color: white;}#sk-container-id-3 div.sk-label label {font-family: monospace;font-weight: bold;display: inline-block;line-height: 1.2em;}#sk-container-id-3 div.sk-label-container {text-align: center;}#sk-container-id-3 div.sk-container {/* jupyter's `normalize.less` sets `[hidden] { display: none; }` but bootstrap.min.css set `[hidden] { display: none !important; }` so we also need the `!important` here to be able to override the default hidden behavior on the sphinx rendered scikit-learn.org. See: https://github.com/scikit-learn/scikit-learn/issues/21755 */display: inline-block !important;position: relative;}#sk-container-id-3 div.sk-text-repr-fallback {display: none;}</style><div id=\"sk-container-id-3\" class=\"sk-top-container\"><div class=\"sk-text-repr-fallback\"><pre>RandomForestClassifier(class_weight={0: 2, 1: 1}, max_depth=5,\n",
       "                       max_features=None, n_estimators=5, n_jobs=8,\n",
       "                       random_state=1)</pre><b>In a Jupyter environment, please rerun this cell to show the HTML representation or trust the notebook. <br />On GitHub, the HTML representation is unable to render, please try loading this page with nbviewer.org.</b></div><div class=\"sk-container\" hidden><div class=\"sk-item\"><div class=\"sk-estimator sk-toggleable\"><input class=\"sk-toggleable__control sk-hidden--visually\" id=\"sk-estimator-id-3\" type=\"checkbox\" checked><label for=\"sk-estimator-id-3\" class=\"sk-toggleable__label sk-toggleable__label-arrow\">RandomForestClassifier</label><div class=\"sk-toggleable__content\"><pre>RandomForestClassifier(class_weight={0: 2, 1: 1}, max_depth=5,\n",
       "                       max_features=None, n_estimators=5, n_jobs=8,\n",
       "                       random_state=1)</pre></div></div></div></div></div>"
      ],
      "text/plain": [
       "RandomForestClassifier(class_weight={0: 2, 1: 1}, max_depth=5,\n",
       "                       max_features=None, n_estimators=5, n_jobs=8,\n",
       "                       random_state=1)"
      ]
     },
     "execution_count": 60,
     "metadata": {},
     "output_type": "execute_result"
    }
   ],
   "source": [
    "rf_pca_class_weight_hp_tuned.fit(X_train_hat_PCA,y_train)"
   ]
  },
  {
   "cell_type": "code",
   "execution_count": 61,
   "id": "b5b47509-53a2-4aad-8135-672be9388f89",
   "metadata": {},
   "outputs": [],
   "source": [
    "y_preds_rf_pca_class_weight_hp_tuned=rf_pca_class_weight_hp_tuned.predict(X_test_hat_PCA)"
   ]
  },
  {
   "cell_type": "code",
   "execution_count": 62,
   "id": "0276056a-33ab-45b2-9b55-898f96a0540e",
   "metadata": {},
   "outputs": [
    {
     "name": "stdout",
     "output_type": "stream",
     "text": [
      "Accuracy is: 0.75\n",
      "Precision is: 0.75\n",
      "Recall is: 1.00\n",
      "Fscore is: 0.94\n",
      "AUC is: 0.50\n"
     ]
    }
   ],
   "source": [
    "evaluate_metrics(y_test, y_preds_rf_pca_class_weight_hp_tuned)"
   ]
  },
  {
   "cell_type": "code",
   "execution_count": 63,
   "id": "e9a20c17-f5d2-4aed-9435-3736d2c5460d",
   "metadata": {},
   "outputs": [
    {
     "data": {
      "text/plain": [
       "['random_forest_model.joblib']"
      ]
     },
     "execution_count": 63,
     "metadata": {},
     "output_type": "execute_result"
    }
   ],
   "source": [
    "from joblib import dump\n",
    "model_file = 'random_forest_model.joblib'\n",
    "dump(rf_pca_class_weight_hp_tuned, model_file)"
   ]
  },
  {
   "cell_type": "code",
   "execution_count": 64,
   "id": "4e6ed7b4-950a-44aa-bae6-499998a991ff",
   "metadata": {},
   "outputs": [
    {
     "data": {
      "text/plain": [
       "['one_hot_encoder.joblib']"
      ]
     },
     "execution_count": 64,
     "metadata": {},
     "output_type": "execute_result"
    }
   ],
   "source": [
    "model_file = 'one_hot_encoder.joblib'\n",
    "dump(one_hot, model_file)"
   ]
  },
  {
   "cell_type": "code",
   "execution_count": 65,
   "id": "538111ca-ae11-4724-92a0-3761c33c27a6",
   "metadata": {},
   "outputs": [
    {
     "data": {
      "text/plain": [
       "['pca.joblib']"
      ]
     },
     "execution_count": 65,
     "metadata": {},
     "output_type": "execute_result"
    }
   ],
   "source": [
    "model_file = 'pca.joblib'\n",
    "dump(pca, model_file)"
   ]
  },
  {
   "cell_type": "code",
   "execution_count": 66,
   "id": "53fe04a2-4fcc-417d-9e2a-7f4659de225c",
   "metadata": {},
   "outputs": [
    {
     "data": {
      "text/plain": [
       "['standardscaler.joblib']"
      ]
     },
     "execution_count": 66,
     "metadata": {},
     "output_type": "execute_result"
    }
   ],
   "source": [
    "model_file = 'standardscaler.joblib'\n",
    "dump(ss, model_file)"
   ]
  }
 ],
 "metadata": {
  "kernelspec": {
   "display_name": "Python 3 (ipykernel)",
   "language": "python",
   "name": "python3"
  },
  "language_info": {
   "codemirror_mode": {
    "name": "ipython",
    "version": 3
   },
   "file_extension": ".py",
   "mimetype": "text/x-python",
   "name": "python",
   "nbconvert_exporter": "python",
   "pygments_lexer": "ipython3",
   "version": "3.9.16"
  }
 },
 "nbformat": 4,
 "nbformat_minor": 5
}
